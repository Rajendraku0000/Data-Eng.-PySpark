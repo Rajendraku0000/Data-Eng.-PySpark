{
 "cells": [
  {
   "cell_type": "code",
   "execution_count": 0,
   "metadata": {
    "application/vnd.databricks.v1+cell": {
     "cellMetadata": {
      "byteLimit": 2048000,
      "rowLimit": 10000
     },
     "inputWidgets": {},
     "nuid": "e193f7f3-a65e-4bb3-9888-831ad6cbaf2f",
     "showTitle": false,
     "title": ""
    }
   },
   "outputs": [],
   "source": [
    "# dbfs:/FileStore/shared_uploads/rajendraku0000@gmail.com/airport.txt\n",
    "airportrdd=sc.textFile(\"dbfs:/FileStore/shared_uploads/rajendraku0000@gmail.com/airport.txt\")"
   ]
  },
  {
   "cell_type": "code",
   "execution_count": 0,
   "metadata": {
    "application/vnd.databricks.v1+cell": {
     "cellMetadata": {
      "byteLimit": 2048000,
      "rowLimit": 10000
     },
     "inputWidgets": {},
     "nuid": "43955e53-d2d8-4dd3-9bc9-40a7681b3036",
     "showTitle": false,
     "title": ""
    }
   },
   "outputs": [
    {
     "output_type": "stream",
     "name": "stdout",
     "output_type": "stream",
     "text": [
      "Out[2]: ['1,\"Goroka\",\"Goroka\",\"Papua New Guinea\",\"GKA\",\"AYGA\",-6.081689,145.391881,5282,10,\"U\",\"Pacific/Port_Moresby\"',\n '2,\"Madang\",\"Madang\",\"Papua New Guinea\",\"MAG\",\"AYMD\",-5.207083,145.7887,20,10,\"U\",\"Pacific/Port_Moresby\"',\n '3,\"Mount Hagen\",\"Mount Hagen\",\"Papua New Guinea\",\"HGU\",\"AYMH\",-5.826789,144.295861,5388,10,\"U\",\"Pacific/Port_Moresby\"',\n '4,\"Nadzab\",\"Nadzab\",\"Papua New Guinea\",\"LAE\",\"AYNZ\",-6.569828,146.726242,239,10,\"U\",\"Pacific/Port_Moresby\"',\n '5,\"Port Moresby Jacksons Intl\",\"Port Moresby\",\"Papua New Guinea\",\"POM\",\"AYPY\",-9.443383,147.22005,146,10,\"U\",\"Pacific/Port_Moresby\"',\n '6,\"Wewak Intl\",\"Wewak\",\"Papua New Guinea\",\"WWK\",\"AYWK\",-3.583828,143.669186,19,10,\"U\",\"Pacific/Port_Moresby\"',\n '7,\"Narsarsuaq\",\"Narssarssuaq\",\"Greenland\",\"UAK\",\"BGBW\",61.160517,-45.425978,112,-3,\"E\",\"America/Godthab\"',\n '8,\"Nuuk\",\"Godthaab\",\"Greenland\",\"GOH\",\"BGGH\",64.190922,-51.678064,283,-3,\"E\",\"America/Godthab\"',\n '9,\"Sondre Stromfjord\",\"Sondrestrom\",\"Greenland\",\"SFJ\",\"BGSF\",67.016969,-50.689325,165,-3,\"E\",\"America/Godthab\"',\n '10,\"Thule Air Base\",\"Thule\",\"Greenland\",\"THU\",\"BGTL\",76.531203,-68.703161,251,-4,\"E\",\"America/Thule\"',\n '11,\"Akureyri\",\"Akureyri\",\"Iceland\",\"AEY\",\"BIAR\",65.659994,-18.072703,6,0,\"N\",\"Atlantic/Reykjavik\"',\n '12,\"Egilsstadir\",\"Egilsstadir\",\"Iceland\",\"EGS\",\"BIEG\",65.283333,-14.401389,76,0,\"N\",\"Atlantic/Reykjavik\"',\n '13,\"Hornafjordur\",\"Hofn\",\"Iceland\",\"HFN\",\"BIHN\",64.295556,-15.227222,24,0,\"N\",\"Atlantic/Reykjavik\"',\n '14,\"Husavik\",\"Husavik\",\"Iceland\",\"HZK\",\"BIHU\",65.952328,-17.425978,48,0,\"N\",\"Atlantic/Reykjavik\"',\n '15,\"Isafjordur\",\"Isafjordur\",\"Iceland\",\"IFJ\",\"BIIS\",66.058056,-23.135278,8,0,\"N\",\"Atlantic/Reykjavik\"',\n '16,\"Keflavik International Airport\",\"Keflavik\",\"Iceland\",\"KEF\",\"BIKF\",63.985,-22.605556,171,0,\"N\",\"Atlantic/Reykjavik\"',\n '17,\"Patreksfjordur\",\"Patreksfjordur\",\"Iceland\",\"PFJ\",\"BIPA\",65.555833,-23.965,11,0,\"N\",\"Atlantic/Reykjavik\"',\n '18,\"Reykjavik\",\"Reykjavik\",\"Iceland\",\"RKV\",\"BIRK\",64.13,-21.940556,48,0,\"N\",\"Atlantic/Reykjavik\"',\n '19,\"Siglufjordur\",\"Siglufjordur\",\"Iceland\",\"SIJ\",\"BISI\",66.133333,-18.916667,10,0,\"N\",\"Atlantic/Reykjavik\"',\n '20,\"Vestmannaeyjar\",\"Vestmannaeyjar\",\"Iceland\",\"VEY\",\"BIVM\",63.424303,-20.278875,326,0,\"N\",\"Atlantic/Reykjavik\"',\n '21,\"Sault Ste Marie\",\"Sault Sainte Marie\",\"Canada\",\"YAM\",\"CYAM\",46.485001,-84.509445,630,-5,\"A\",\"America/Toronto\"',\n '22,\"Winnipeg St Andrews\",\"Winnipeg\",\"Canada\",\"YAV\",\"CYAV\",50.056389,-97.0325,760,-6,\"A\",\"America/Winnipeg\"',\n '23,\"Shearwater\",\"Halifax\",\"Canada\",\"YAW\",\"CYAW\",44.639721,-63.499444,167,-4,\"A\",\"America/Halifax\"',\n '24,\"St Anthony\",\"St. Anthony\",\"Canada\",\"YAY\",\"CYAY\",51.391944,-56.083056,108,-3.5,\"A\",\"America/St_Johns\"',\n '25,\"Tofino\",\"Tofino\",\"Canada\",\"YAZ\",\"CYAZ\",49.082222,-125.7725,80,-8,\"A\",\"America/Vancouver\"',\n '26,\"Kugaaruk\",\"Pelly Bay\",\"Canada\",\"YBB\",\"CYBB\",68.534444,-89.808056,56,-7,\"A\",\"America/Edmonton\"',\n '27,\"Baie Comeau\",\"Baie Comeau\",\"Canada\",\"YBC\",\"CYBC\",49.1325,-68.204444,71,-5,\"A\",\"America/Toronto\"',\n '28,\"Bagotville\",\"Bagotville\",\"Canada\",\"YBG\",\"CYBG\",48.330555,-70.996391,522,-5,\"A\",\"America/Toronto\"',\n '29,\"Baker Lake\",\"Baker Lake\",\"Canada\",\"YBK\",\"CYBK\",64.298889,-96.077778,59,-6,\"A\",\"America/Winnipeg\"',\n '30,\"Campbell River\",\"Campbell River\",\"Canada\",\"YBL\",\"CYBL\",49.950832,-125.270833,346,-8,\"A\",\"America/Vancouver\"',\n '31,\"Brandon Muni\",\"Brandon\",\"Canada\",\"YBR\",\"CYBR\",49.91,-99.951944,1343,-6,\"A\",\"America/Winnipeg\"',\n '32,\"Cambridge Bay\",\"Cambridge Bay\",\"Canada\",\"YCB\",\"CYCB\",69.108055,-105.138333,90,-7,\"A\",\"America/Edmonton\"',\n '33,\"Nanaimo\",\"Nanaimo\",\"Canada\",\"YCD\",\"CYCD\",49.052333,-123.870167,93,-8,\"A\",\"America/Vancouver\"',\n '34,\"Castlegar\",\"Castlegar\",\"Canada\",\"YCG\",\"CYCG\",49.296389,-117.6325,1624,-8,\"A\",\"America/Vancouver\"',\n '35,\"Miramichi\",\"Chatham\",\"Canada\",\"YCH\",\"CYCH\",47.007778,-65.449167,108,-4,\"A\",\"America/Halifax\"',\n '36,\"Charlo\",\"Charlo\",\"Canada\",\"YCL\",\"CYCL\",47.990833,-66.330278,132,-4,\"A\",\"America/Halifax\"',\n '37,\"Kugluktuk\",\"Coppermine\",\"Canada\",\"YCO\",\"CYCO\",67.816667,-115.143889,74,-7,\"A\",\"America/Edmonton\"',\n '38,\"Coronation\",\"Coronation\",\"Canada\",\"YCT\",\"CYCT\",52.075001,-111.445278,2595,-7,\"A\",\"America/Edmonton\"',\n '39,\"Chilliwack\",\"Chilliwack\",\"Canada\",\"YCW\",\"CYCW\",49.152779,-121.93889,32,-8,\"A\",\"America/Vancouver\"',\n '40,\"Clyde River\",\"Clyde River\",\"Canada\",\"YCY\",\"CYCY\",70.486111,-68.516667,87,-5,\"A\",\"America/Toronto\"',\n '41,\"Fairmont Hot Springs\",\"Coral Harbour\",\"Canada\",\"YZS\",\"CYCZ\",64.193333,-83.359444,2661,-5,\"A\",\"America/Coral_Harbour\"',\n '42,\"Dawson City\",\"Dawson\",\"Canada\",\"YDA\",\"CYDA\",64.043056,-139.127778,1215,-8,\"A\",\"America/Vancouver\"',\n '43,\"Burwash\",\"Burwash\",\"Canada\",\"YDB\",\"CYDB\",61.371111,-139.040556,2647,-8,\"A\",\"America/Vancouver\"',\n '44,\"Princeton\",\"Princeton\",\"Canada\",\"YDC\",\"CYDC\",49.468056,-120.511389,2298,-8,\"A\",\"America/Vancouver\"',\n '45,\"Deer Lake\",\"Deer Lake\",\"Canada\",\"YDF\",\"CYDF\",49.210833,-57.391388,72,-3.5,\"A\",\"America/St_Johns\"',\n '46,\"Dease Lake\",\"Dease Lake\",\"Canada\",\"YDL\",\"CYDL\",58.422222,-130.032222,2600,-8,\"A\",\"America/Vancouver\"',\n '47,\"Dauphin Barker\",\"Dauphin\",\"Canada\",\"YDN\",\"CYDN\",51.100834,-100.0525,999,-6,\"A\",\"America/Winnipeg\"',\n '48,\"Dawson Creek\",\"Dawson Creek\",\"Canada\",\"YDQ\",\"CYDQ\",55.742333,-120.183,2148,-7,\"A\",\"America/Dawson_Creek\"',\n '49,\"Edmonton Intl\",\"Edmonton\",\"Canada\",\"YEG\",\"CYEG\",53.309723,-113.579722,2373,-7,\"A\",\"America/Edmonton\"',\n '50,\"Arviat\",\"Eskimo Point\",\"Canada\",\"YEK\",\"CYEK\",61.094166,-94.070833,32,-6,\"A\",\"America/Winnipeg\"',\n '51,\"Estevan\",\"Estevan\",\"Canada\",\"YEN\",\"CYEN\",49.210278,-102.965833,1905,-6,\"N\",\"America/Regina\"',\n '52,\"Edson\",\"Edson\",\"Canada\",\"YET\",\"CYET\",53.578888,-116.465,3041,-7,\"A\",\"America/Edmonton\"',\n '53,\"Eureka\",\"Eureka\",\"Canada\",\"YEU\",\"CYEU\",79.994722,-85.814167,256,-6,\"A\",\"America/Winnipeg\"',\n '54,\"Inuvik Mike Zubko\",\"Inuvik\",\"Canada\",\"YEV\",\"CYEV\",68.304167,-133.482778,224,-7,\"A\",\"America/Edmonton\"',\n '55,\"Iqaluit\",\"Iqaluit\",\"Canada\",\"YFB\",\"CYFB\",63.75639,-68.555832,110,-5,\"A\",\"America/Toronto\"',\n '56,\"Fredericton\",\"Fredericton\",\"Canada\",\"YFC\",\"CYFC\",45.868889,-66.537222,68,-4,\"A\",\"America/Halifax\"',\n '57,\"Forestville\",\"Forestville\",\"Canada\",\"\",\"CYFE\",48.746111,-69.097222,293,-5,\"A\",\"America/Toronto\"',\n '58,\"Flin Flon\",\"Flin Flon\",\"Canada\",\"YFO\",\"CYFO\",54.678055,-101.681667,997,-6,\"A\",\"America/Winnipeg\"',\n '59,\"Fort Resolution\",\"Fort Resolution\",\"Canada\",\"YFR\",\"CYFR\",61.180832,-113.689722,526,-7,\"A\",\"America/Edmonton\"',\n '60,\"Fort Simpson\",\"Fort Simpson\",\"Canada\",\"YFS\",\"CYFS\",61.760153,-121.236525,555,-7,\"A\",\"America/Edmonton\"',\n '61,\"Kingston\",\"Kingston\",\"Canada\",\"YGK\",\"CYGK\",44.225277,-76.596944,305,-5,\"A\",\"America/Toronto\"',\n '62,\"La Grande Riviere\",\"La Grande Riviere\",\"Canada\",\"YGL\",\"CYGL\",53.625278,-77.704167,639,-5,\"A\",\"America/Toronto\"',\n '63,\"Gaspe\",\"Gaspe\",\"Canada\",\"YGP\",\"CYGP\",48.775278,-64.478611,108,-5,\"A\",\"America/Toronto\"',\n '64,\"Geraldton Greenstone Regional\",\"Geraldton\",\"Canada\",\"YGQ\",\"CYGQ\",49.778332,-86.939445,1144,-5,\"A\",\"America/Toronto\"',\n '65,\"Iles De La Madeleine\",\"Iles De La Madeleine\",\"Canada\",\"YGR\",\"CYGR\",47.424721,-61.778056,35,-5,\"A\",\"America/Toronto\"',\n '66,\"Hudson Bay\",\"Hudson Bay\",\"Canada\",\"YHB\",\"CYHB\",52.816666,-102.31139,1175,-6,\"N\",\"America/Regina\"',\n '67,\"Dryden Rgnl\",\"Dryden\",\"Canada\",\"YHD\",\"CYHD\",49.831667,-92.744167,1354,-6,\"A\",\"America/Winnipeg\"',\n '68,\"Ulukhaktok Holman\",\"Holman Island\",\"Canada\",\"YHI\",\"CYHI\",70.762778,-117.806111,117,-7,\"A\",\"America/Edmonton\"',\n '69,\"Gjoa Haven\",\"Gjoa Haven\",\"Canada\",\"YHK\",\"CYHK\",68.635556,-95.849722,152,-7,\"A\",\"America/Edmonton\"',\n '70,\"Hamilton\",\"Hamilton\",\"Canada\",\"YHM\",\"CYHM\",43.173611,-79.935,780,-5,\"A\",\"America/Toronto\"',\n '71,\"St Hubert\",\"Montreal\",\"Canada\",\"YHU\",\"CYHU\",45.5175,-73.416944,90,-5,\"A\",\"America/Toronto\"',\n '72,\"Hay River\",\"Hay River\",\"Canada\",\"YHY\",\"CYHY\",60.839722,-115.782778,543,-7,\"A\",\"America/Edmonton\"',\n '73,\"Halifax Intl\",\"Halifax\",\"Canada\",\"YHZ\",\"CYHZ\",44.880833,-63.50861,477,-4,\"A\",\"America/Halifax\"',\n '74,\"Atikokan Muni\",\"Atikokan\",\"Canada\",\"YIB\",\"CYIB\",48.773888,-91.638611,1408,-5,\"A\",\"America/Coral_Harbour\"',\n '75,\"Pond Inlet\",\"Pond Inlet\",\"Canada\",\"YIO\",\"CYIO\",72.683334,-77.966667,181,-5,\"A\",\"America/Toronto\"',\n '76,\"St Jean\",\"St. Jean\",\"Canada\",\"YJN\",\"CYJN\",45.294445,-73.281111,136,-5,\"A\",\"America/Toronto\"',\n '77,\"Stephenville\",\"Stephenville\",\"Canada\",\"YJT\",\"CYJT\",48.544167,-58.549999,80,-3.5,\"A\",\"America/St_Johns\"',\n '78,\"Kamloops\",\"Kamloops\",\"Canada\",\"YKA\",\"CYKA\",50.702222,-120.444444,1133,-8,\"A\",\"America/Vancouver\"',\n '79,\"Waterloo\",\"Waterloo\",\"Canada\",\"YKF\",\"CYKF\",43.460833,-80.378611,1054,-5,\"A\",\"America/Toronto\"',\n '80,\"Schefferville\",\"Schefferville\",\"Canada\",\"YKL\",\"CYKL\",54.805278,-66.805278,1709,-5,\"A\",\"America/Toronto\"',\n '81,\"Kindersley\",\"Kindersley\",\"Canada\",\"YKY\",\"CYKY\",51.5175,-109.180833,2277,-6,\"N\",\"America/Regina\"',\n '82,\"Buttonville Muni\",\"Toronto\",\"Canada\",\"YKZ\",\"CYKZ\",43.862221,-79.37,650,-5,\"A\",\"America/Toronto\"',\n '83,\"Chapleau\",\"Chapleau\",\"Canada\",\"YLD\",\"CYLD\",47.82,-83.346667,1470,-5,\"A\",\"America/Toronto\"',\n '84,\"Meadow Lake\",\"Meadow Lake\",\"Canada\",\"YLJ\",\"CYLJ\",54.125278,-108.522778,1576,-6,\"N\",\"America/Regina\"',\n '85,\"Lloydminster\",\"Lloydminster\",\"Canada\",\"YLL\",\"CYLL\",53.309166,-110.0725,2193,-7,\"A\",\"America/Edmonton\"',\n '86,\"Alert\",\"Alert\",\"Canada\",\"YLT\",\"CYLT\",82.517778,-62.280556,100,-5,\"A\",\"America/Toronto\"',\n '87,\"Kelowna\",\"Kelowna\",\"Canada\",\"YLW\",\"CYLW\",49.956112,-119.377778,1409,-8,\"A\",\"America/Vancouver\"',\n '88,\"Mayo\",\"Mayo\",\"Canada\",\"YMA\",\"CYMA\",63.616389,-135.868333,1653,-8,\"A\",\"America/Vancouver\"',\n '89,\"Moose Jaw Air Vice Marshal C M Mcewen\",\"Moose Jaw\",\"Canada\",\"YMJ\",\"CYMJ\",50.330278,-105.559167,1892,-6,\"N\",\"America/Regina\"',\n '90,\"Fort Mcmurray\",\"Fort Mcmurray\",\"Canada\",\"YMM\",\"CYMM\",56.653333,-111.221944,1211,-7,\"A\",\"America/Edmonton\"',\n '91,\"Moosonee\",\"Moosonee\",\"Canada\",\"YMO\",\"CYMO\",51.291111,-80.607778,30,-5,\"A\",\"America/Toronto\"',\n '92,\"Maniwaki\",\"Maniwaki\",\"Canada\",\"YMW\",\"CYMW\",46.272778,-75.990556,656,-5,\"A\",\"America/Toronto\"',\n '93,\"Montreal Intl Mirabel\",\"Montreal\",\"Canada\",\"YMX\",\"CYMX\",45.681944,-74.005278,270,-5,\"A\",\"America/Toronto\"',\n '94,\"Natashquan\",\"Natashquan\",\"Canada\",\"YNA\",\"CYNA\",50.19,-61.789167,39,-5,\"A\",\"America/Toronto\"',\n '95,\"Gatineau\",\"Gatineau\",\"Canada\",\"YND\",\"CYND\",45.521694,-75.563589,211,-5,\"A\",\"America/Toronto\"',\n '96,\"Matagami\",\"Matagami\",\"Canada\",\"YNM\",\"CYNM\",49.761667,-77.802778,918,-5,\"A\",\"America/Toronto\"',\n '97,\"Old Crow\",\"Old Crow\",\"Canada\",\"YOC\",\"CYOC\",67.570556,-139.839167,824,-8,\"A\",\"America/Vancouver\"',\n '98,\"Cold Lake\",\"Cold Lake\",\"Canada\",\"YOD\",\"CYOD\",54.404999,-110.279444,1775,-7,\"A\",\"America/Edmonton\"',\n '99,\"High Level\",\"High Level\",\"Canada\",\"YOJ\",\"CYOJ\",58.621389,-117.164722,1110,-7,\"A\",\"America/Edmonton\"',\n '100,\"Ottawa Macdonald Cartier Intl\",\"Ottawa\",\"Canada\",\"YOW\",\"CYOW\",45.3225,-75.669167,374,-5,\"A\",\"America/Toronto\"',\n '101,\"Prince Albert Glass Field\",\"Prince Albert\",\"Canada\",\"YPA\",\"CYPA\",53.214167,-105.672778,1405,-6,\"N\",\"America/Regina\"',\n '102,\"Peace River\",\"Peace River\",\"Canada\",\"YPE\",\"CYPE\",56.226944,-117.447222,1873,-7,\"A\",\"America/Edmonton\"',\n '103,\"Southport\",\"Portage-la-prairie\",\"Canada\",\"YPG\",\"CYPG\",49.903056,-98.273889,885,-6,\"A\",\"America/Winnipeg\"',\n '104,\"Pitt Meadows\",\"Pitt Meadows\",\"Canada\",\"\",\"CYPK\",49.21611,-122.71,11,-8,\"A\",\"America/Vancouver\"',\n '105,\"Pickle Lake\",\"Pickle Lake\",\"Canada\",\"YPL\",\"CYPL\",51.446388,-90.214167,1267,-5,\"A\",\"America/Coral_Harbour\"',\n '106,\"Port Menier\",\"Port Menier\",\"Canada\",\"YPN\",\"CYPN\",49.836389,-64.288611,167,-5,\"A\",\"America/Toronto\"',\n '107,\"Peterborough\",\"Peterborough\",\"Canada\",\"YPQ\",\"CYPQ\",44.23,-78.363333,628,-5,\"A\",\"America/Toronto\"',\n '108,\"Prince Rupert\",\"Prince Pupert\",\"Canada\",\"YPR\",\"CYPR\",54.28611,-130.444722,116,-8,\"A\",\"America/Vancouver\"',\n '109,\"Fort Chipewyan\",\"Fort Chipewyan\",\"Canada\",\"YPY\",\"CYPY\",58.767223,-111.117222,761,-7,\"A\",\"America/Edmonton\"',\n '110,\"Muskoka\",\"Muskoka\",\"Canada\",\"YQA\",\"CYQA\",44.974722,-79.303333,925,-5,\"A\",\"America/Toronto\"',\n '111,\"Quebec Jean Lesage Intl\",\"Quebec\",\"Canada\",\"YQB\",\"CYQB\",46.791111,-71.393333,244,-5,\"A\",\"America/Toronto\"',\n '112,\"Red Deer Regional\",\"Red Deer Industrial\",\"Canada\",\"YQF\",\"CYQF\",52.182222,-113.894444,2968,-7,\"A\",\"America/Edmonton\"',\n '113,\"Windsor\",\"Windsor\",\"Canada\",\"YQG\",\"CYQG\",42.275556,-82.955556,622,-5,\"A\",\"America/Toronto\"',\n '114,\"Watson Lake\",\"Watson Lake\",\"Canada\",\"YQH\",\"CYQH\",60.116389,-128.8225,2255,-8,\"A\",\"America/Vancouver\"',\n '115,\"Kenora\",\"Kenora\",\"Canada\",\"YQK\",\"CYQK\",49.788334,-94.363056,1332,-6,\"A\",\"America/Winnipeg\"',\n '116,\"Lethbridge\",\"Lethbridge\",\"Canada\",\"YQL\",\"CYQL\",49.630278,-112.799722,3047,-7,\"A\",\"America/Edmonton\"',\n '117,\"Greater Moncton Intl\",\"Moncton\",\"Canada\",\"YQM\",\"CYQM\",46.112221,-64.678611,232,-4,\"A\",\"America/Halifax\"',\n '119,\"Comox\",\"Comox\",\"Canada\",\"YQQ\",\"CYQQ\",49.710833,-124.886667,84,-8,\"A\",\"America/Vancouver\"',\n '120,\"Regina Intl\",\"Regina\",\"Canada\",\"YQR\",\"CYQR\",50.431944,-104.665833,1894,-6,\"N\",\"America/Regina\"',\n '121,\"Thunder Bay\",\"Thunder Bay\",\"Canada\",\"YQT\",\"CYQT\",48.371944,-89.323889,653,-5,\"A\",\"America/Toronto\"',\n '122,\"Grande Prairie\",\"Grande Prairie\",\"Canada\",\"YQU\",\"CYQU\",55.179722,-118.885,2195,-7,\"A\",\"America/Edmonton\"',\n '123,\"Yorkton Muni\",\"Yorkton\",\"Canada\",\"YQV\",\"CYQV\",51.264721,-102.461667,1635,-6,\"N\",\"America/Regina\"',\n '124,\"North Battleford\",\"North Battleford\",\"Canada\",\"YQW\",\"CYQW\",52.769167,-108.24361,1799,-6,\"N\",\"America/Regina\"',\n '125,\"Gander Intl\",\"Gander\",\"Canada\",\"YQX\",\"CYQX\",48.936944,-54.568056,496,-3.5,\"A\",\"America/St_Johns\"',\n '126,\"Sydney\",\"Sydney\",\"Canada\",\"YQY\",\"CYQY\",46.161388,-60.047779,203,-4,\"A\",\"America/Halifax\"',\n '127,\"Quesnel\",\"Quesnel\",\"Canada\",\"YQZ\",\"CYQZ\",53.026112,-122.510278,1789,-8,\"A\",\"America/Vancouver\"',\n '128,\"Resolute Bay\",\"Resolute\",\"Canada\",\"YRB\",\"CYRB\",74.716944,-94.969444,215,-6,\"A\",\"America/Winnipeg\"',\n '129,\"Riviere Du Loup\",\"Riviere Du Loup\",\"Canada\",\"YRI\",\"CYRI\",47.764444,-69.584722,427,-5,\"A\",\"America/Toronto\"',\n '130,\"Roberval\",\"Roberval\",\"Canada\",\"YRJ\",\"CYRJ\",48.52,-72.265556,586,-5,\"A\",\"America/Toronto\"',\n '131,\"Rocky Mountain House\",\"Rocky Mountain House\",\"Canada\",\"YRM\",\"CYRM\",52.429722,-114.904167,3244,-7,\"A\",\"America/Edmonton\"',\n '132,\"Rankin Inlet\",\"Rankin Inlet\",\"Canada\",\"YRT\",\"CYRT\",62.81139,-92.115833,94,-6,\"A\",\"America/Winnipeg\"',\n '133,\"Sudbury\",\"Sudbury\",\"Canada\",\"YSB\",\"CYSB\",46.625,-80.798889,1141,-5,\"A\",\"America/Toronto\"',\n '134,\"Sherbrooke\",\"Sherbrooke\",\"Canada\",\"YSC\",\"CYSC\",45.438611,-71.691389,792,-5,\"A\",\"America/Toronto\"',\n '135,\"Saint John\",\"St. John\",\"Canada\",\"YSJ\",\"CYSJ\",45.316111,-65.890278,357,-4,\"A\",\"America/Halifax\"',\n '136,\"Fort Smith\",\"Fort Smith\",\"Canada\",\"YSM\",\"CYSM\",60.020278,-111.961944,671,-7,\"A\",\"America/Edmonton\"',\n '137,\"Nanisivik\",\"Nanisivik\",\"Canada\",\"YSR\",\"CYSR\",72.982222,-84.613611,2106,-5,\"A\",\"America/Toronto\"',\n '138,\"Summerside\",\"Summerside\",\"Canada\",\"YSU\",\"CYSU\",46.440556,-63.833611,56,-4,\"A\",\"America/Halifax\"',\n '139,\"Sachs Harbour\",\"Sachs Harbour\",\"Canada\",\"YSY\",\"CYSY\",71.993889,-125.2425,282,-7,\"A\",\"America/Edmonton\"',\n '140,\"Cape Dorset\",\"Cape Dorset\",\"Canada\",\"YTE\",\"CYTE\",64.23,-76.526667,164,-5,\"A\",\"America/Toronto\"',\n '141,\"Thompson\",\"Thompson\",\"Canada\",\"YTH\",\"CYTH\",55.801111,-97.864166,729,-6,\"A\",\"America/Winnipeg\"',\n '142,\"Trenton\",\"Trenton\",\"Canada\",\"YTR\",\"CYTR\",44.118889,-77.528056,283,-5,\"A\",\"America/Toronto\"',\n '143,\"Timmins\",\"Timmins\",\"Canada\",\"YTS\",\"CYTS\",48.569721,-81.376667,967,-5,\"A\",\"America/Toronto\"',\n '144,\"City Centre\",\"Toronto\",\"Canada\",\"YTZ\",\"CYTZ\",43.627499,-79.396167,251,-5,\"A\",\"America/Toronto\"',\n '145,\"Tuktoyaktuk\",\"Tuktoyaktuk\",\"Canada\",\"YUB\",\"CYUB\",69.433334,-133.026389,15,-7,\"A\",\"America/Edmonton\"',\n '146,\"Pierre Elliott Trudeau Intl\",\"Montreal\",\"Canada\",\"YUL\",\"CYUL\",45.470556,-73.740833,118,-5,\"A\",\"America/Toronto\"',\n '147,\"Repulse Bay\",\"Repulse Bay\",\"Canada\",\"YUT\",\"CYUT\",66.521389,-86.224722,80,-6,\"A\",\"America/Winnipeg\"',\n '148,\"Hall Beach\",\"Hall Beach\",\"Canada\",\"YUX\",\"CYUX\",68.776111,-81.243611,27,-5,\"A\",\"America/Toronto\"',\n '149,\"Rouyn Noranda\",\"Rouyn\",\"Canada\",\"YUY\",\"CYUY\",48.206111,-78.835556,988,-5,\"A\",\"America/Toronto\"',\n '150,\"La Ronge\",\"La Ronge\",\"Canada\",\"YVC\",\"CYVC\",55.15139,-105.261944,1242,-6,\"N\",\"America/Regina\"',\n '151,\"Vermilion\",\"Vermillion\",\"Canada\",\"YVG\",\"CYVG\",53.355833,-110.82389,2025,-7,\"A\",\"America/Edmonton\"',\n '152,\"Qikiqtarjuaq\",\"Broughton Island\",\"Canada\",\"YVM\",\"CYVM\",67.545833,-64.031389,21,-5,\"A\",\"America/Toronto\"',\n '153,\"Val D Or\",\"Val D\\'or\",\"Canada\",\"YVO\",\"CYVO\",48.053333,-77.782778,1107,-5,\"A\",\"America/Toronto\"',\n '154,\"Kuujjuaq\",\"Quujjuaq\",\"Canada\",\"YVP\",\"CYVP\",58.096111,-68.426944,129,-5,\"A\",\"America/Toronto\"',\n '155,\"Norman Wells\",\"Norman Wells\",\"Canada\",\"YVQ\",\"CYVQ\",65.281617,-126.798219,238,-7,\"A\",\"America/Edmonton\"',\n '156,\"Vancouver Intl\",\"Vancouver\",\"Canada\",\"YVR\",\"CYVR\",49.193889,-123.184444,14,-8,\"A\",\"America/Vancouver\"',\n '157,\"Buffalo Narrows\",\"Buffalo Narrows\",\"Canada\",\"YVT\",\"CYVT\",55.841944,-108.4175,1444,-6,\"N\",\"America/Regina\"',\n '158,\"Wiarton\",\"Wiarton\",\"Canada\",\"YVV\",\"CYVV\",44.745834,-81.107222,729,-5,\"A\",\"America/Toronto\"',\n '159,\"Petawawa\",\"Petawawa\",\"Canada\",\"YWA\",\"CYWA\",45.952221,-77.319168,427,-5,\"A\",\"America/Toronto\"',\n '160,\"Winnipeg Intl\",\"Winnipeg\",\"Canada\",\"YWG\",\"CYWG\",49.910036,-97.239886,783,-6,\"A\",\"America/Winnipeg\"',\n '161,\"Wabush\",\"Wabush\",\"Canada\",\"YWK\",\"CYWK\",52.921944,-66.864444,1808,-4,\"A\",\"America/Halifax\"',\n '162,\"Williams Lake\",\"Williams Lake\",\"Canada\",\"YWL\",\"CYWL\",52.183056,-122.054167,3085,-8,\"A\",\"America/Vancouver\"',\n '163,\"Wrigley\",\"Wrigley\",\"Canada\",\"YWY\",\"CYWY\",63.209444,-123.436667,489,-7,\"A\",\"America/Edmonton\"',\n '164,\"Canadian Rockies Intl\",\"Cranbrook\",\"Canada\",\"YXC\",\"CYXC\",49.612222,-115.781944,3084,-7,\"A\",\"America/Edmonton\"',\n '165,\"Edmonton City Centre\",\"Edmonton\",\"Canada\",\"YXD\",\"CYXD\",53.5725,-113.520556,2200,-7,\"A\",\"America/Edmonton\"',\n '166,\"Saskatoon J G Diefenbaker Intl\",\"Saskatoon\",\"Canada\",\"YXE\",\"CYXE\",52.170834,-106.699722,1653,-6,\"N\",\"America/Regina\"',\n '167,\"Medicine Hat\",\"Medicine Hat\",\"Canada\",\"YXH\",\"CYXH\",50.01889,-110.720833,2352,-7,\"A\",\"America/Edmonton\"',\n '168,\"Fort St John\",\"Fort Saint John\",\"Canada\",\"YXJ\",\"CYXJ\",56.238056,-120.740278,2280,-7,\"A\",\"America/Dawson_Creek\"',\n '169,\"Sioux Lookout\",\"Sioux Lookout\",\"Canada\",\"YXL\",\"CYXL\",50.113889,-91.905278,1258,-6,\"A\",\"America/Winnipeg\"',\n '170,\"Pangnirtung\",\"Pangnirtung\",\"Canada\",\"YXP\",\"CYXP\",66.145,-65.713611,75,-5,\"A\",\"America/Toronto\"',\n '171,\"Timiskaming Rgnl\",\"Earlton\",\"Canada\",\"YXR\",\"CYXR\",47.695,-79.848889,798,-5,\"A\",\"America/Toronto\"',\n '172,\"Prince George\",\"Prince George\",\"Canada\",\"YXS\",\"CYXS\",53.889444,-122.678889,2267,-8,\"A\",\"America/Vancouver\"',\n '173,\"Terrace\",\"Terrace\",\"Canada\",\"YXT\",\"CYXT\",54.468508,-128.576219,713,-8,\"A\",\"America/Vancouver\"',\n '174,\"London\",\"London\",\"Canada\",\"YXU\",\"CYXU\",43.033056,-81.151111,912,-5,\"A\",\"America/Toronto\"',\n '175,\"Abbotsford\",\"Abbotsford\",\"Canada\",\"YXX\",\"CYXX\",49.025278,-122.360556,195,-8,\"A\",\"America/Vancouver\"',\n '176,\"Whitehorse Intl\",\"Whitehorse\",\"Canada\",\"YXY\",\"CYXY\",60.709553,-135.067269,2317,-8,\"A\",\"America/Vancouver\"',\n '177,\"North Bay\",\"North Bay\",\"Canada\",\"YYB\",\"CYYB\",46.363611,-79.422778,1215,-5,\"A\",\"America/Toronto\"',\n '178,\"Calgary Intl\",\"Calgary\",\"Canada\",\"YYC\",\"CYYC\",51.113888,-114.020278,3557,-7,\"A\",\"America/Edmonton\"',\n '179,\"Smithers\",\"Smithers\",\"Canada\",\"YYD\",\"CYYD\",54.824722,-127.182778,1712,-8,\"A\",\"America/Vancouver\"',\n '180,\"Fort Nelson\",\"Fort Nelson\",\"Canada\",\"YYE\",\"CYYE\",58.836389,-122.596944,1253,-8,\"A\",\"America/Vancouver\"',\n '181,\"Penticton\",\"Penticton\",\"Canada\",\"YYF\",\"CYYF\",49.463056,-119.602222,1129,-8,\"A\",\"America/Vancouver\"',\n '182,\"Charlottetown\",\"Charlottetown\",\"Canada\",\"YYG\",\"CYYG\",46.290001,-63.121111,160,-4,\"A\",\"America/Halifax\"',\n '183,\"Taloyoak\",\"Spence Bay\",\"Canada\",\"YYH\",\"CYYH\",69.546667,-93.576667,92,-7,\"A\",\"America/Edmonton\"',\n '184,\"Victoria Intl\",\"Victoria\",\"Canada\",\"YYJ\",\"CYYJ\",48.646944,-123.425833,63,-8,\"A\",\"America/Vancouver\"',\n '185,\"Lynn Lake\",\"Lynn Lake\",\"Canada\",\"YYL\",\"CYYL\",56.863888,-101.07611,1170,-6,\"A\",\"America/Winnipeg\"',\n '186,\"Swift Current\",\"Swift Current\",\"Canada\",\"YYN\",\"CYYN\",50.291944,-107.690556,2680,-6,\"N\",\"America/Regina\"',\n '187,\"Churchill\",\"Churchill\",\"Canada\",\"YYQ\",\"CYYQ\",58.739167,-94.065,94,-6,\"A\",\"America/Winnipeg\"',\n '188,\"Goose Bay\",\"Goose Bay\",\"Canada\",\"YYR\",\"CYYR\",53.319168,-60.425833,160,-4,\"A\",\"America/Halifax\"',\n '189,\"St Johns Intl\",\"St. John\\'s\",\"Canada\",\"YYT\",\"CYYT\",47.61861,-52.751945,461,-3.5,\"A\",\"America/St_Johns\"',\n '190,\"Kapuskasing\",\"Kapuskasing\",\"Canada\",\"YYU\",\"CYYU\",49.413889,-82.4675,743,-5,\"A\",\"America/Toronto\"',\n '191,\"Armstrong\",\"Armstrong\",\"Canada\",\"YYW\",\"CYYW\",50.290279,-88.909721,1058,-5,\"A\",\"America/Toronto\"',\n '192,\"Mont Joli\",\"Mont Joli\",\"Canada\",\"YYY\",\"CYYY\",48.608612,-68.208056,172,-5,\"A\",\"America/Toronto\"',\n '193,\"Lester B Pearson Intl\",\"Toronto\",\"Canada\",\"YYZ\",\"CYYZ\",43.677223,-79.630556,569,-5,\"A\",\"America/Toronto\"',\n '194,\"Downsview\",\"Toronto\",\"Canada\",\"YZD\",\"CYZD\",43.7425,-79.465556,652,-5,\"A\",\"America/Toronto\"',\n '195,\"Gore Bay Manitoulin\",\"Gore Bay\",\"Canada\",\"YZE\",\"CYZE\",45.885277,-82.567778,635,-5,\"A\",\"America/Toronto\"',\n '196,\"Yellowknife\",\"Yellowknife\",\"Canada\",\"YZF\",\"CYZF\",62.462778,-114.440278,675,-7,\"A\",\"America/Edmonton\"',\n '197,\"Slave Lake\",\"Slave Lake\",\"Canada\",\"YZH\",\"CYZH\",55.293056,-114.777222,1912,-7,\"A\",\"America/Edmonton\"',\n '198,\"Sandspit\",\"Sandspit\",\"Canada\",\"YZP\",\"CYZP\",53.254333,-131.813833,21,-8,\"A\",\"America/Vancouver\"',\n '199,\"Chris Hadfield\",\"Sarnia\",\"Canada\",\"YZR\",\"CYZR\",42.999444,-82.308889,594,-5,\"A\",\"America/Toronto\"',\n '200,\"Port Hardy\",\"Port Hardy\",\"Canada\",\"YZT\",\"CYZT\",50.680556,-127.366667,71,-8,\"A\",\"America/Vancouver\"',\n '201,\"Whitecourt\",\"Whitecourt\",\"Canada\",\"YZU\",\"CYZU\",54.14389,-115.786667,2567,-7,\"A\",\"America/Edmonton\"',\n '202,\"Sept Iles\",\"Sept-iles\",\"Canada\",\"YZV\",\"CYZV\",50.223333,-66.265556,180,-5,\"A\",\"America/Toronto\"',\n '203,\"Teslin\",\"Teslin\",\"Canada\",\"YZW\",\"CYZW\",60.172779,-132.742778,2313,-8,\"A\",\"America/Vancouver\"',\n '204,\"Greenwood\",\"Greenwood\",\"Canada\",\"YZX\",\"CYZX\",44.984444,-64.916944,92,-4,\"A\",\"America/Halifax\"',\n '205,\"Faro\",\"Faro\",\"Canada\",\"ZFA\",\"CZFA\",62.2075,-133.375833,2351,-8,\"A\",\"America/Vancouver\"',\n '206,\"Fort Mcpherson\",\"Fort Mcpherson\",\"Canada\",\"ZFM\",\"CZFM\",67.4075,-134.860556,116,-7,\"A\",\"America/Edmonton\"',\n '207,\"Blida\",\"Blida\",\"Algeria\",\"\",\"DAAB\",36.503613,2.814167,535,1,\"N\",\"Africa/Algiers\"',\n '208,\"Bou Saada\",\"Bou Saada\",\"Algeria\",\"\",\"DAAD\",35.3325,4.206389,1506,1,\"N\",\"Africa/Algiers\"',\n '209,\"Soummam\",\"Bejaja\",\"Algeria\",\"BJA\",\"DAAE\",36.711997,5.069922,20,1,\"N\",\"Africa/Algiers\"',\n '210,\"Houari Boumediene\",\"Algier\",\"Algeria\",\"ALG\",\"DAAG\",36.691014,3.215408,82,1,\"N\",\"Africa/Algiers\"',\n '211,\"Tiska\",\"Djanet\",\"Algeria\",\"DJG\",\"DAAJ\",24.292767,9.452444,3176,1,\"N\",\"Africa/Algiers\"',\n '212,\"Boufarik\",\"Boufarik\",\"Algeria\",\"QFD\",\"DAAK\",36.545834,2.876111,335,1,\"N\",\"Africa/Algiers\"',\n '213,\"Reggane\",\"Reggan\",\"Algeria\",\"\",\"DAAN\",26.710103,0.285647,955,1,\"N\",\"Africa/Algiers\"',\n '214,\"Illizi Takhamalt\",\"Illizi\",\"Algeria\",\"VVZ\",\"DAAP\",26.723536,8.622653,1778,1,\"N\",\"Africa/Algiers\"',\n '215,\"Ain Oussera\",\"Ain Oussera\",\"Algeria\",\"\",\"DAAQ\",35.525414,2.878714,2132,1,\"N\",\"Africa/Algiers\"',\n '216,\"Tamanrasset\",\"Tamanrasset\",\"Algeria\",\"TMR\",\"DAAT\",22.811461,5.451075,4518,1,\"N\",\"Africa/Algiers\"',\n '217,\"Jijel\",\"Jijel\",\"Algeria\",\"GJL\",\"DAAV\",36.795136,5.873608,36,1,\"N\",\"Africa/Algiers\"',\n '218,\"Mecheria\",\"Mecheria\",\"Algeria\",\"\",\"DAAY\",33.535853,-0.242353,3855,1,\"N\",\"Africa/Algiers\"',\n '219,\"Relizane\",\"Relizane\",\"Algeria\",\"\",\"DAAZ\",35.752239,0.626272,282,1,\"N\",\"Africa/Algiers\"',\n '220,\"Annaba\",\"Annaba\",\"Algeria\",\"AAE\",\"DABB\",36.822225,7.809167,16,1,\"N\",\"Africa/Algiers\"',\n '221,\"Mohamed Boudiaf Intl\",\"Constantine\",\"Algeria\",\"CZL\",\"DABC\",36.276028,6.620386,2265,1,\"N\",\"Africa/Algiers\"',\n '222,\"Cheikh Larbi Tebessi\",\"Tebessa\",\"Algeria\",\"TEE\",\"DABS\",35.431611,8.120717,2661,1,\"N\",\"Africa/Algiers\"',\n '224,\"Hassi R Mel\",\"Tilrempt\",\"Algeria\",\"HRM\",\"DAFH\",32.930431,3.311542,2540,1,\"N\",\"Africa/Algiers\"',\n '225,\"Bou Chekif\",\"Tiaret\",\"Algeria\",\"TID\",\"DAOB\",35.341136,1.463147,3245,1,\"N\",\"Africa/Algiers\"',\n '226,\"Bou Sfer\",\"Bou Sfer\",\"Algeria\",\"\",\"DAOE\",35.735389,-0.805389,187,1,\"N\",\"Africa/Algiers\"',\n '227,\"Tindouf\",\"Tindouf\",\"Algeria\",\"TIN\",\"DAOF\",27.700372,-8.167103,1453,1,\"N\",\"Africa/Algiers\"',\n '228,\"Ech Cheliff\",\"Ech-cheliff\",\"Algeria\",\"QAS\",\"DAOI\",36.212658,1.331775,463,1,\"N\",\"Africa/Algiers\"',\n '229,\"Tafaraoui\",\"Oran\",\"Algeria\",\"TAF\",\"DAOL\",35.542444,-0.532278,367,1,\"N\",\"Africa/Algiers\"',\n '230,\"Zenata\",\"Tlemcen\",\"Algeria\",\"TLM\",\"DAON\",35.016667,-1.45,814,1,\"N\",\"Africa/Algiers\"',\n '231,\"Es Senia\",\"Oran\",\"Algeria\",\"ORN\",\"DAOO\",35.623858,-0.621183,295,1,\"N\",\"Africa/Algiers\"',\n '232,\"Sidi Bel Abbes\",\"Sidi Bel Abbes\",\"Algeria\",\"\",\"DAOS\",35.171775,-0.593275,1614,1,\"N\",\"Africa/Algiers\"',\n '233,\"Ghriss\",\"Ghriss\",\"Algeria\",\"MUW\",\"DAOV\",35.207725,0.147142,1686,1,\"N\",\"Africa/Algiers\"',\n '234,\"Touat Cheikh Sidi Mohamed Belkebir\",\"Adrar\",\"Algeria\",\"AZR\",\"DAUA\",27.837589,-0.186414,919,1,\"N\",\"Africa/Algiers\"',\n '235,\"Biskra\",\"Biskra\",\"Algeria\",\"BSK\",\"DAUB\",34.793289,5.738231,289,1,\"N\",\"Africa/Algiers\"',\n '236,\"El Golea\",\"El Golea\",\"Algeria\",\"ELG\",\"DAUE\",30.571294,2.859586,1306,1,\"N\",\"Africa/Algiers\"',\n '237,\"N\n\n*** WARNING: max output size exceeded, skipping output. ***\n\n\"',\n '782,\"Buchel\",\"Buechel\",\"Germany\",\"\",\"ETSB\",50.173833,7.063333,1568,1,\"E\",\"Europe/Berlin\"',\n '783,\"Erding\",\"Erding\",\"Germany\",\"\",\"ETSE\",48.322333,11.948667,1515,1,\"E\",\"Europe/Berlin\"',\n '784,\"Furstenfeldbruck\",\"Fuerstenfeldbruck\",\"Germany\",\"FEL\",\"ETSF\",48.205667,11.267,1703,1,\"E\",\"Europe/Berlin\"',\n '785,\"Holzdorf\",\"Holzdorf\",\"Germany\",\"\",\"ETSH\",51.767833,13.167667,265,1,\"E\",\"Europe/Berlin\"',\n '786,\"Ingolstadt Manching\",\"Ingolstadt\",\"Germany\",\"\",\"ETSI\",48.715667,11.534,1202,1,\"E\",\"Europe/Berlin\"',\n '787,\"Lechfeld\",\"Lechfeld\",\"Germany\",\"\",\"ETSL\",48.1855,10.861167,1822,1,\"E\",\"Europe/Berlin\"',\n '788,\"Neuburg\",\"Neuburg\",\"Germany\",\"\",\"ETSN\",48.711,11.2115,1249,1,\"E\",\"Europe/Berlin\"',\n '789,\"Gutersloh\",\"Guetersloh\",\"Germany\",\"GUT\",\"ETUO\",51.922833,8.306333,236,1,\"E\",\"Europe/Berlin\"',\n '790,\"Alexander Bay\",\"Alexander Bay\",\"South Africa\",\"ALJ\",\"FAAB\",-28.575001,16.533333,98,2,\"U\",\"Africa/Johannesburg\"',\n '791,\"Aggeneys\",\"Aggeneys\",\"South Africa\",\"AGZ\",\"FAAG\",-29.281767,18.813869,2648,2,\"U\",\"Africa/Johannesburg\"',\n '792,\"Brakpan\",\"Brakpan\",\"South Africa\",\"\",\"FABB\",-26.23865,28.301769,5300,2,\"U\",\"Africa/Johannesburg\"',\n '793,\"Bhisho\",\"Bisho\",\"South Africa\",\"BIY\",\"FABE\",-32.89715,27.279111,1950,2,\"U\",\"Africa/Johannesburg\"',\n '794,\"Bloemfontein Intl\",\"Bloemfontein\",\"South Africa\",\"BFN\",\"FABL\",-29.092722,26.302444,4458,2,\"U\",\"Africa/Johannesburg\"',\n '795,\"Bethlehem\",\"Bethlehem\",\"South Africa\",\"\",\"FABM\",-28.248392,28.336125,5561,2,\"U\",\"Africa/Johannesburg\"',\n '796,\"Bothaville\",\"Bothaville\",\"South Africa\",\"\",\"FABO\",-27.366769,26.629194,4236,2,\"U\",\"Africa/Johannesburg\"',\n '797,\"Cape Town Intl\",\"Cape Town\",\"South Africa\",\"CPT\",\"FACT\",-33.964806,18.601667,151,2,\"U\",\"Africa/Johannesburg\"',\n '798,\"Calvinia\",\"Calvinia\",\"South Africa\",\"\",\"FACV\",-31.500278,19.725897,3250,2,\"U\",\"Africa/Johannesburg\"',\n '799,\"Durban Intl\",\"Durban\",\"South Africa\",\"DUR\",\"FADN\",-29.970089,30.950519,33,2,\"U\",\"Africa/Johannesburg\"',\n '800,\"East London\",\"East London\",\"South Africa\",\"ELS\",\"FAEL\",-33.035569,27.825939,435,2,\"U\",\"Africa/Johannesburg\"',\n '801,\"Ermelo\",\"Ermelo\",\"South Africa\",\"\",\"FAEO\",-26.495644,29.979764,5700,2,\"U\",\"Africa/Johannesburg\"',\n '802,\"Ficksburg Sentraoes\",\"Ficksburg\",\"South Africa\",\"\",\"FAFB\",-28.823119,27.9089,5315,2,\"U\",\"Africa/Johannesburg\"',\n '803,\"Grand Central\",\"Johannesburg\",\"South Africa\",\"GCJ\",\"FAGC\",-25.986267,28.140061,5325,2,\"U\",\"Africa/Johannesburg\"',\n '804,\"George\",\"George\",\"South Africa\",\"GRJ\",\"FAGG\",-34.005553,22.378889,648,2,\"U\",\"Africa/Johannesburg\"',\n '806,\"Graaff Reinet\",\"Graaff Reinet\",\"South Africa\",\"\",\"FAGR\",-32.193611,24.541389,2604,2,\"U\",\"Africa/Johannesburg\"',\n '807,\"Grahamstown\",\"Grahamstown\",\"South Africa\",\"\",\"FAGT\",-33.284721,26.498083,2135,2,\"U\",\"Africa/Johannesburg\"',\n '808,\"Greytown\",\"Greytown\",\"South Africa\",\"\",\"FAGY\",-29.122011,30.586706,3531,2,\"U\",\"Africa/Johannesburg\"',\n '809,\"Harmony\",\"Harmony\",\"South Africa\",\"\",\"FAHA\",-28.078694,26.861178,4399,2,\"U\",\"Africa/Johannesburg\"',\n '810,\"Harrismith\",\"Harrismith\",\"South Africa\",\"\",\"FAHR\",-28.235072,29.106206,5585,2,\"U\",\"Africa/Johannesburg\"',\n '811,\"Hoedspruit Afb\",\"Hoedspruit\",\"South Africa\",\"HDS\",\"FAHS\",-24.368642,31.048744,1743,2,\"U\",\"Africa/Johannesburg\"',\n '812,\"Gariep Dam\",\"Hendrik Verwoerddam\",\"South Africa\",\"\",\"FAHV\",-30.562164,25.528286,4176,2,\"U\",\"Africa/Johannesburg\"',\n '813,\"Johannesburg Intl\",\"Johannesburg\",\"South Africa\",\"JNB\",\"FAJS\",-26.139166,28.246,5558,2,\"U\",\"Africa/Johannesburg\"',\n '814,\"P C Pelser\",\"Klerksdorp\",\"South Africa\",\"\",\"FAKD\",-26.871064,26.718003,4444,2,\"U\",\"Africa/Johannesburg\"',\n '815,\"Kimberley\",\"Kimberley\",\"South Africa\",\"KIM\",\"FAKM\",-28.802834,24.765167,3950,2,\"U\",\"Africa/Johannesburg\"',\n '816,\"Krugersdorp\",\"Krugersdorp\",\"South Africa\",\"\",\"FAKR\",-26.080978,27.725667,5499,2,\"U\",\"Africa/Johannesburg\"',\n '817,\"Kroonstad\",\"Kroonstad\",\"South Africa\",\"\",\"FAKS\",-27.660617,27.315761,4700,2,\"U\",\"Africa/Johannesburg\"',\n '818,\"Johan Pienaar\",\"Kuruman\",\"South Africa\",\"\",\"FAKU\",-27.456667,23.411388,4382,2,\"U\",\"Africa/Johannesburg\"',\n '819,\"Kleinsee\",\"Kleinsee\",\"South Africa\",\"KLZ\",\"FAKZ\",-29.688403,17.094006,270,2,\"U\",\"Africa/Johannesburg\"',\n '820,\"Lanseria\",\"Johannesburg\",\"South Africa\",\"HLA\",\"FALA\",-25.938514,27.926133,4517,2,\"U\",\"Africa/Johannesburg\"',\n '821,\"Lichtenburg\",\"Lichtenburg\",\"South Africa\",\"\",\"FALI\",-26.175672,26.184575,4875,2,\"U\",\"Africa/Johannesburg\"',\n '822,\"Makhado Afb\",\"Lambertsbaai\",\"South Africa\",\"\",\"FALM\",-23.159911,29.696544,3069,2,\"U\",\"Africa/Johannesburg\"',\n '823,\"Langebaanweg\",\"Langebaanweg\",\"South Africa\",\"\",\"FALW\",-32.968889,18.160278,108,2,\"U\",\"Africa/Johannesburg\"',\n '824,\"Ladysmith\",\"Ladysmith\",\"South Africa\",\"LAY\",\"FALY\",-28.581667,29.749722,3548,2,\"U\",\"Africa/Johannesburg\"',\n '825,\"Middelburg\",\"Middelburg\",\"South Africa\",\"\",\"FAMB\",-25.684775,29.440158,4886,2,\"U\",\"Africa/Johannesburg\"',\n '827,\"Margate\",\"Margate\",\"South Africa\",\"MGH\",\"FAMG\",-30.857408,30.343019,495,2,\"U\",\"Africa/Johannesburg\"',\n '828,\"Marble Hall\",\"Marble Hall\",\"South Africa\",\"\",\"FAMI\",-24.989114,29.283122,2980,2,\"U\",\"Africa/Johannesburg\"',\n '829,\"Majuba Power Station\",\"Majuba Power Station\",\"South Africa\",\"\",\"FAMJ\",-27.079253,29.778528,5600,2,\"U\",\"Africa/Johannesburg\"',\n '6813,\"Susse\",\"Kangia\",\"Greenland\",\"\",\\\\N,69.2225,-49.9383,100,-3,\"U\",\"America/Godthab\"',\n '831,\"Malelane\",\"Malalane\",\"South Africa\",\"\",\"FAMN\",-25.473603,31.565828,1153,2,\"U\",\"Africa/Johannesburg\"',\n '832,\"Messina\",\"Musina\",\"South Africa\",\"MEZ\",\"FAMS\",-25.704458,26.908978,4251,2,\"U\",\"Africa/Johannesburg\"',\n '833,\"Mkuzi\",\"Mkuze\",\"South Africa\",\"\",\"FAMU\",-27.626086,32.044275,400,2,\"U\",\"Africa/Johannesburg\"',\n '834,\"Newcastle\",\"Newcastle\",\"South Africa\",\"NCS\",\"FANC\",-27.770586,29.976894,4074,2,\"U\",\"Africa/Johannesburg\"',\n '835,\"Nylstroom\",\"Nylstroom\",\"South Africa\",\"\",\"FANY\",-24.686056,28.434944,3900,2,\"U\",\"Africa/Johannesburg\"',\n '836,\"Overberg\",\"Overberg\",\"South Africa\",\"\",\"FAOB\",-34.554861,20.250681,52,2,\"U\",\"Africa/Johannesburg\"',\n '837,\"Oudtshoorn\",\"Oudtshoorn\",\"South Africa\",\"DUH\",\"FAOH\",-33.606967,22.188978,1063,2,\"U\",\"Africa/Johannesburg\"',\n '838,\"Port Elizabeth Intl\",\"Port Elizabeth\",\"South Africa\",\"PLZ\",\"FAPE\",-33.984919,25.617275,226,2,\"U\",\"Africa/Johannesburg\"',\n '839,\"Plettenberg Bay\",\"Plettenberg Bay\",\"South Africa\",\"\",\"FAPG\",-34.090279,23.327778,465,2,\"U\",\"Africa/Johannesburg\"',\n '840,\"Phalaborwa\",\"Phalaborwa\",\"South Africa\",\"PHW\",\"FAPH\",-23.937166,31.15539,1432,2,\"U\",\"Africa/Johannesburg\"',\n '841,\"Polokwane International\",\"Polokwane\",\"South Africa\",\"PTG\",\"FAPI\",-23.926089,29.484422,4354,2,\"U\",\"Africa/Johannesburg\"',\n '842,\"Port St Johns\",\"Port Saint Johns\",\"South Africa\",\"\",\"FAPJ\",-31.605886,29.519786,1227,2,\"U\",\"Africa/Johannesburg\"',\n '843,\"Pietermaritzburg\",\"Pietermaritzburg\",\"South Africa\",\"PZB\",\"FAPM\",-29.648975,30.398667,2423,2,\"U\",\"Africa/Johannesburg\"',\n '844,\"Pilanesberg Intl\",\"Pilanesberg\",\"South Africa\",\"NTY\",\"FAPN\",-25.333822,27.173358,3412,2,\"U\",\"Africa/Johannesburg\"',\n '845,\"Polokwane Intl\",\"Potgietersrus\",\"South Africa\",\"\",\"FAPP\",-23.845306,29.458611,4076,2,\"U\",\"Africa/Johannesburg\"',\n '846,\"Potchefstroom\",\"Potchefstroom\",\"South Africa\",\"\",\"FAPS\",-26.670994,27.0819,4520,2,\"U\",\"Africa/Johannesburg\"',\n '847,\"Parys\",\"Parys\",\"South Africa\",\"\",\"FAPY\",-26.889344,27.503417,4740,2,\"U\",\"Africa/Johannesburg\"',\n '848,\"Queenstown\",\"Queenstown\",\"South Africa\",\"UTW\",\"FAQT\",-31.920197,26.882206,3637,2,\"U\",\"Africa/Johannesburg\"',\n '849,\"Richards Bay\",\"Richard\\'s Bay\",\"South Africa\",\"RCB\",\"FARB\",-28.741039,32.092111,109,2,\"U\",\"Africa/Johannesburg\"',\n '850,\"Rustenburg\",\"Rustenburg\",\"South Africa\",\"\",\"FARG\",-25.6443,27.271119,3700,2,\"U\",\"Africa/Johannesburg\"',\n '851,\"Robertson\",\"Robertson\",\"South Africa\",\"\",\"FARS\",-33.812181,19.902828,640,2,\"U\",\"Africa/Johannesburg\"',\n '852,\"Springbok\",\"Springbok\",\"South Africa\",\"SBU\",\"FASB\",-29.689333,17.939611,2690,2,\"U\",\"Africa/Johannesburg\"',\n '853,\"Secunda\",\"Secunda\",\"South Africa\",\"\",\"FASC\",-26.524083,29.170144,5250,2,\"U\",\"Africa/Johannesburg\"',\n '854,\"Saldanha Vredenburg\",\"Saldanha\",\"South Africa\",\"\",\"FASD\",-32.964067,17.969331,50,2,\"U\",\"Africa/Johannesburg\"',\n '855,\"Springs\",\"Springs\",\"South Africa\",\"\",\"FASI\",-26.248411,28.397508,5340,2,\"U\",\"Africa/Johannesburg\"',\n '856,\"Swartkop\",\"Swartkop\",\"South Africa\",\"\",\"FASK\",-25.809717,28.164631,4780,2,\"U\",\"Africa/Johannesburg\"',\n '857,\"Sishen\",\"Sishen\",\"South Africa\",\"SIS\",\"FASS\",-27.648606,22.999278,3848,2,\"U\",\"Africa/Johannesburg\"',\n '858,\"Hendrik Swellengrebel\",\"Swellendam\",\"South Africa\",\"\",\"FASX\",-34.048222,20.474611,407,2,\"U\",\"Africa/Johannesburg\"',\n '859,\"Skukuza\",\"Skukuza\",\"South Africa\",\"SZK\",\"FASZ\",-24.960944,31.588731,1020,2,\"U\",\"Africa/Johannesburg\"',\n '860,\"Tommys Fld\",\"Tommy\\'s Field\",\"South Africa\",\"\",\"FATF\",-28.260028,22.993178,4360,2,\"U\",\"Africa/Johannesburg\"',\n '861,\"New Tempe\",\"Bloemfontein\",\"South Africa\",\"\",\"FATP\",-29.032928,26.157564,4547,2,\"U\",\"Africa/Johannesburg\"',\n '862,\"Tutuka Power Station\",\"Tutuka\",\"South Africa\",\"\",\"FATT\",-26.776556,29.338778,5313,2,\"U\",\"Africa/Johannesburg\"',\n '863,\"Tzaneen\",\"Tzaneen\",\"South Africa\",\"LTA\",\"FATZ\",-23.824417,30.329306,1914,2,\"U\",\"Africa/Johannesburg\"',\n '864,\"Prince Mangosuthu Buthelezi\",\"Ulundi\",\"South Africa\",\"ULD\",\"FAUL\",-28.320586,31.416519,1720,2,\"U\",\"Africa/Johannesburg\"',\n '865,\"Upington\",\"Upington\",\"South Africa\",\"UTN\",\"FAUP\",-28.399097,21.260239,2782,2,\"U\",\"Africa/Johannesburg\"',\n '866,\"Mthatha\",\"Umtata\",\"South Africa\",\"UTT\",\"FAUT\",-31.547903,28.674289,2400,2,\"U\",\"Africa/Johannesburg\"',\n '867,\"Vryburg\",\"Vryburg\",\"South Africa\",\"VRU\",\"FAVB\",-26.982408,24.728756,3920,2,\"U\",\"Africa/Johannesburg\"',\n '868,\"Virginia\",\"Durban\",\"South Africa\",\"VIR\",\"FAVG\",-29.770606,31.058406,20,2,\"U\",\"Africa/Johannesburg\"',\n '869,\"Vredendal\",\"Vredendal\",\"South Africa\",\"\",\"FAVR\",-31.640961,18.544789,330,2,\"U\",\"Africa/Johannesburg\"',\n '870,\"Vereeniging\",\"Vereeniging\",\"South Africa\",\"\",\"FAVV\",-26.566372,27.960756,4846,2,\"U\",\"Africa/Johannesburg\"',\n '871,\"Wonderboom\",\"Pretoria\",\"South Africa\",\"PRY\",\"FAWB\",-25.653858,28.224231,4095,2,\"U\",\"Africa/Johannesburg\"',\n '872,\"Witbank\",\"Witbank\",\"South Africa\",\"\",\"FAWI\",-25.832294,29.192019,5078,2,\"U\",\"Africa/Johannesburg\"',\n '873,\"Waterkloof Afb\",\"Waterkloof\",\"South Africa\",\"\",\"FAWK\",-25.83,28.2225,4940,2,\"U\",\"Africa/Johannesburg\"',\n '874,\"Welkom\",\"Welkom\",\"South Africa\",\"WEL\",\"FAWM\",-27.998,26.669586,4399,2,\"U\",\"Africa/Johannesburg\"',\n '875,\"Ysterplaat\",\"Ysterplaat\",\"South Africa\",\"\",\"FAYP\",-33.900244,18.498297,52,2,\"U\",\"Africa/Johannesburg\"',\n '876,\"Zeerust\",\"Zeerust\",\"South Africa\",\"\",\"FAZR\",-25.598972,26.042333,4258,2,\"U\",\"Africa/Johannesburg\"',\n '877,\"Francistown\",\"Francistown\",\"Botswana\",\"FRW\",\"FBFT\",-21.159597,27.474525,3283,2,\"U\",\"Africa/Gaborone\"',\n '878,\"Jwaneng\",\"Jwaneng\",\"Botswana\",\"JWA\",\"FBJW\",-24.602333,24.690971,3900,2,\"U\",\"Africa/Gaborone\"',\n '879,\"Kasane\",\"Kasane\",\"Botswana\",\"BBK\",\"FBKE\",-17.832875,25.1624,3289,2,\"U\",\"Africa/Gaborone\"',\n '880,\"Maun\",\"Maun\",\"Botswana\",\"MUB\",\"FBMN\",-19.972564,23.431086,3093,2,\"U\",\"Africa/Gaborone\"',\n '881,\"Sir Seretse Khama Intl\",\"Gaberone\",\"Botswana\",\"GBE\",\"FBSK\",-24.555225,25.918208,3299,2,\"U\",\"Africa/Gaborone\"',\n '882,\"Selebi Phikwe\",\"Selebi-phikwe\",\"Botswana\",\"PKW\",\"FBSP\",-22.05835,27.828767,2925,2,\"U\",\"Africa/Gaborone\"',\n '883,\"Maya Maya\",\"Brazzaville\",\"Congo (Brazzaville)\",\"BZV\",\"FCBB\",-4.2517,15.253031,1048,1,\"N\",\"Africa/Brazzaville\"',\n '884,\"Owando\",\"Owando\",\"Congo (Kinshasa)\",\"FTX\",\"FCOO\",-0.53135,15.950094,1214,1,\"N\",\"Africa/Brazzaville\"',\n '885,\"Ouesso\",\"Ouesso\",\"Congo (Kinshasa)\",\"OUE\",\"FCOU\",1.615994,16.037917,1158,1,\"N\",\"Africa/Brazzaville\"',\n '886,\"Pointe Noire\",\"Pointe-noire\",\"Congo (Brazzaville)\",\"PNR\",\"FCPP\",-4.816028,11.886597,55,1,\"N\",\"Africa/Brazzaville\"',\n '887,\"Matsapha\",\"Manzini\",\"Swaziland\",\"MTS\",\"FDMS\",-26.529022,31.307519,2075,2,\"U\",\"Africa/Mbabane\"',\n '888,\"Bangui M Poko\",\"Bangui\",\"Central African Republic\",\"BGF\",\"FEFF\",4.398475,18.518786,1208,1,\"N\",\"Africa/Bangui\"',\n '889,\"Berberati\",\"Berberati\",\"Central African Republic\",\"BBT\",\"FEFT\",4.221583,15.786369,1929,1,\"N\",\"Africa/Bangui\"',\n '890,\"Bata\",\"Bata\",\"Equatorial Guinea\",\"BSG\",\"FGBT\",1.905469,9.805681,13,1,\"N\",\"Africa/Malabo\"',\n '891,\"Malabo\",\"Malabo\",\"Equatorial Guinea\",\"SSG\",\"FGSL\",3.755267,8.708717,76,1,\"N\",\"Africa/Malabo\"',\n '892,\"Ascension Aux Af\",\"Wide Awake\",\"Saint Helena\",\"\",\"FHAW\",-7.969597,-14.393664,278,0,\"N\",\"Atlantic/St_Helena\"',\n '893,\"Sir Seewoosagur Ramgoolam Intl\",\"Plaisance\",\"Mauritius\",\"MRU\",\"FIMP\",-20.430235,57.6836,186,4,\"N\",\"Indian/Mauritius\"',\n '894,\"Plaine Corail\",\"Rodriguez Island\",\"Mauritius\",\"RRG\",\"FIMR\",-19.757658,63.360983,95,4,\"N\",\"Indian/Mauritius\"',\n '895,\"Diego Garcia Nsf\",\"Diego Garcia Island\",\"British Indian Ocean Territory\",\"\",\"FJDG\",-7.313267,72.411089,9,6,\"U\",\"Indian/Chagos\"',\n '896,\"Tiko\",\"Tiko\",\"Cameroon\",\"TKC\",\"FKKC\",4.089192,9.360528,151,1,\"N\",\"Africa/Douala\"',\n '897,\"Douala\",\"Douala\",\"Cameroon\",\"DLA\",\"FKKD\",4.006081,9.719481,33,1,\"N\",\"Africa/Douala\"',\n '898,\"Salak\",\"Maroua\",\"Cameroon\",\"MVR\",\"FKKL\",10.451392,14.257361,1390,1,\"N\",\"Africa/Douala\"',\n '899,\"Foumban Nkounja\",\"Foumban\",\"Cameroon\",\"FOM\",\"FKKM\",5.636919,10.750817,3963,1,\"N\",\"Africa/Douala\"',\n '900,\"Ngaoundere\",\"N\\'gaoundere\",\"Cameroon\",\"NGE\",\"FKKN\",7.357011,13.559242,3655,1,\"N\",\"Africa/Douala\"',\n '901,\"Garoua\",\"Garoua\",\"Cameroon\",\"GOU\",\"FKKR\",9.335892,13.370103,794,1,\"N\",\"Africa/Douala\"',\n '902,\"Bafoussam\",\"Bafoussam\",\"Cameroon\",\"BFX\",\"FKKU\",5.536919,10.354583,4347,1,\"N\",\"Africa/Douala\"',\n '903,\"Bamenda\",\"Bamenda\",\"Cameroon\",\"BPC\",\"FKKV\",6.039239,10.122639,4065,1,\"N\",\"Africa/Douala\"',\n '904,\"Yaounde Ville\",\"Yaounde\",\"Cameroon\",\"YAO\",\"FKKY\",3.836039,11.523461,2464,1,\"N\",\"Africa/Douala\"',\n '905,\"Kasompe\",\"Kasompe\",\"Zambia\",\"\",\"FLKE\",-12.572778,27.89395,4636,2,\"U\",\"Africa/Lusaka\"',\n '906,\"Livingstone\",\"Livingstone\",\"Zambia\",\"LVI\",\"FLLI\",-17.821756,25.822692,3302,2,\"U\",\"Africa/Lusaka\"',\n '907,\"Lusaka Intl\",\"Lusaka\",\"Zambia\",\"LUN\",\"FLLS\",-15.330817,28.452628,3779,2,\"U\",\"Africa/Lusaka\"',\n '908,\"Mfuwe\",\"Mfuwe\",\"Zambia\",\"MFU\",\"FLMF\",-13.258878,31.936581,1853,2,\"U\",\"Africa/Lusaka\"',\n '909,\"Mongu\",\"Mongu\",\"Zambia\",\"\",\"FLMG\",-15.254542,23.162306,3488,2,\"U\",\"Africa/Lusaka\"',\n '910,\"Ndola\",\"Ndola\",\"Zambia\",\"NLA\",\"FLND\",-12.998139,28.664944,4167,2,\"U\",\"Africa/Lusaka\"',\n '911,\"Southdowns\",\"Southdowns\",\"Zambia\",\"KIW\",\"FLSO\",-12.900469,28.149858,4145,2,\"U\",\"Africa/Lusaka\"',\n '912,\"Prince Said Ibrahim\",\"Moroni\",\"Comoros\",\"HAH\",\"FMCH\",-11.533661,43.27185,93,3,\"U\",\"Indian/Comoro\"',\n '913,\"Bandaressalam\",\"Moheli\",\"Comoros\",\"NWA\",\"FMCI\",-12.298108,43.7664,46,3,\"U\",\"Indian/Comoro\"',\n '914,\"Ouani\",\"Anjouan\",\"Comoros\",\"AJN\",\"FMCV\",-12.131667,44.430279,62,3,\"U\",\"Indian/Comoro\"',\n '915,\"Dzaoudzi Pamandzi\",\"Dzaoudzi\",\"Mayotte\",\"DZA\",\"FMCZ\",-12.804722,45.281113,23,3,\"U\",\"Indian/Mayotte\"',\n '916,\"St Denis Gillot\",\"St.-denis\",\"Reunion\",\"RUN\",\"FMEE\",-20.8871,55.510308,66,4,\"U\",\"Indian/Reunion\"',\n '917,\"St Pierre Pierrefonds\",\"St.-pierre\",\"Reunion\",\"ZSE\",\"FMEP\",-21.320039,55.423581,56,4,\"U\",\"Indian/Reunion\"',\n '918,\"Ivato\",\"Antananarivo\",\"Madagascar\",\"TNR\",\"FMMI\",-18.79695,47.478806,4198,3,\"U\",\"Indian/Antananarivo\"',\n '919,\"Miandrivazo\",\"Miandrivazo\",\"Madagascar\",\"ZVA\",\"FMMN\",-19.562778,45.450832,203,3,\"U\",\"Indian/Antananarivo\"',\n '920,\"Sainte Marie\",\"Sainte Marie\",\"Madagascar\",\"SMS\",\"FMMS\",-17.093889,49.815834,7,3,\"U\",\"Indian/Antananarivo\"',\n '921,\"Toamasina\",\"Toamasina\",\"Madagascar\",\"TMM\",\"FMMT\",-18.109517,49.392536,22,3,\"U\",\"Indian/Antananarivo\"',\n '922,\"Morondava\",\"Morondava\",\"Madagascar\",\"MOQ\",\"FMMV\",-20.28475,44.317614,30,3,\"U\",\"Indian/Antananarivo\"',\n '923,\"Arrachart\",\"Antsiranana\",\"Madagascar\",\"DIE\",\"FMNA\",-12.3494,49.291747,374,3,\"U\",\"Indian/Antananarivo\"',\n '924,\"Avaratra\",\"Mananara\",\"Madagascar\",\"WMR\",\"FMNC\",-16.1639,49.773753,9,3,\"U\",\"Indian/Antananarivo\"',\n '925,\"Andapa\",\"Andapa\",\"Madagascar\",\"ZWA\",\"FMND\",-14.651667,49.620556,1552,3,\"U\",\"Indian/Antananarivo\"',\n '926,\"Ambilobe\",\"Ambilobe\",\"Madagascar\",\"AMB\",\"FMNE\",-13.188431,48.987978,72,3,\"U\",\"Indian/Antananarivo\"',\n '927,\"Antsirabato\",\"Antalaha\",\"Madagascar\",\"ANM\",\"FMNH\",-14.999411,50.320233,20,3,\"U\",\"Indian/Antananarivo\"',\n '928,\"Analalava\",\"Analalava\",\"Madagascar\",\"HVA\",\"FMNL\",-14.629694,47.763783,345,3,\"U\",\"Indian/Antananarivo\"',\n '929,\"Philibert Tsiranana\",\"Mahajanga\",\"Madagascar\",\"MJN\",\"FMNM\",-15.667144,46.351828,87,3,\"U\",\"Indian/Antananarivo\"',\n '930,\"Fascene\",\"Nosy-be\",\"Madagascar\",\"NOS\",\"FMNN\",-13.312067,48.314822,36,3,\"U\",\"Indian/Antananarivo\"',\n '931,\"Besalampy\",\"Besalampy\",\"Madagascar\",\"BPY\",\"FMNQ\",-16.741945,44.481388,125,3,\"U\",\"Indian/Antananarivo\"',\n '932,\"Maroantsetra\",\"Maroantsetra\",\"Madagascar\",\"WMN\",\"FMNR\",-15.436666,49.688332,13,3,\"U\",\"Indian/Antananarivo\"',\n '933,\"Sambava\",\"Sambava\",\"Madagascar\",\"SVB\",\"FMNS\",-14.278611,50.174721,20,3,\"U\",\"Indian/Antananarivo\"',\n '934,\"Vohimarina\",\"Vohemar\",\"Madagascar\",\"VOH\",\"FMNV\",-13.375834,50.002777,19,3,\"U\",\"Indian/Antananarivo\"',\n '935,\"Ambalabe\",\"Antsohihy\",\"Madagascar\",\"WAI\",\"FMNW\",-14.89875,47.993894,92,3,\"U\",\"Indian/Antananarivo\"',\n '936,\"Ampampamena\",\"Ampampamena\",\"Madagascar\",\"\",\"FMNZ\",-13.484814,48.632739,49,3,\"U\",\"Indian/Antananarivo\"',\n '937,\"Tolagnaro\",\"Tolagnaro\",\"Madagascar\",\"FTU\",\"FMSD\",-25.038056,46.956111,29,3,\"U\",\"Indian/Antananarivo\"',\n '938,\"Fianarantsoa\",\"Fianarantsoa\",\"Madagascar\",\"WFI\",\"FMSF\",-21.441558,47.111736,3658,3,\"U\",\"Indian/Antananarivo\"',\n '939,\"Farafangana\",\"Farafangana\",\"Madagascar\",\"RVA\",\"FMSG\",-22.805286,47.820614,26,3,\"U\",\"Indian/Antananarivo\"',\n '940,\"Manakara\",\"Manakara\",\"Madagascar\",\"WVK\",\"FMSK\",-22.119722,48.021667,33,3,\"U\",\"Indian/Antananarivo\"',\n '941,\"Mananjary\",\"Mananjary\",\"Madagascar\",\"MNJ\",\"FMSM\",-21.201772,48.358317,20,3,\"U\",\"Indian/Antananarivo\"',\n '942,\"Morombe\",\"Morombe\",\"Madagascar\",\"MXM\",\"FMSR\",-21.753867,43.375533,16,3,\"U\",\"Indian/Antananarivo\"',\n '943,\"Toliara\",\"Toliara\",\"Madagascar\",\"TLE\",\"FMST\",-23.383369,43.728453,29,3,\"U\",\"Indian/Antananarivo\"',\n '944,\"Mbanza Congo\",\"M\\'banza-congo\",\"Angola\",\"SSY\",\"FNBC\",-6.269897,14.247025,1860,1,\"N\",\"Africa/Luanda\"',\n '945,\"Benguela\",\"Benguela\",\"Angola\",\"BUG\",\"FNBG\",-12.609025,13.403711,118,1,\"N\",\"Africa/Luanda\"',\n '946,\"Cabinda\",\"Cabinda\",\"Angola\",\"CAB\",\"FNCA\",-5.596992,12.188353,66,1,\"N\",\"Africa/Luanda\"',\n '6814,\"Culebra Airport\",\"Culebra Island\",\"Puerto Rico\",\"CPX\",\"TJCP\",18.3127,-65.3034,12,-4,\"U\",\"America/Puerto_Rico\"',\n '948,\"Huambo\",\"Huambo\",\"Angola\",\"NOV\",\"FNHU\",-12.808878,15.760547,5587,1,\"N\",\"Africa/Luanda\"',\n '949,\"Kuito\",\"Kuito\",\"Angola\",\"SVP\",\"FNKU\",-12.404633,16.947414,5618,1,\"N\",\"Africa/Luanda\"',\n '950,\"Lobito\",\"Lobito\",\"Angola\",\"\",\"FNLB\",-12.371233,13.536625,10,1,\"N\",\"Africa/Luanda\"',\n '951,\"Luanda 4 De Fevereiro\",\"Luanda\",\"Angola\",\"LAD\",\"FNLU\",-8.858375,13.231178,243,1,\"N\",\"Africa/Luanda\"',\n '952,\"Malanje\",\"Malanje\",\"Angola\",\"MEG\",\"FNMA\",-9.525086,16.312406,3868,1,\"N\",\"Africa/Luanda\"',\n '953,\"Menongue\",\"Menongue\",\"Angola\",\"SPP\",\"FNME\",-14.657583,17.719833,4469,1,\"N\",\"Africa/Luanda\"',\n '955,\"Negage\",\"Negage\",\"Angola\",\"GXG\",\"FNNG\",-7.754506,15.287728,4105,1,\"N\",\"Africa/Luanda\"',\n '956,\"Porto Amboim\",\"Porto Amboim\",\"Angola\",\"PBN\",\"FNPA\",-10.721956,13.765528,16,1,\"N\",\"Africa/Luanda\"',\n '957,\"Saurimo\",\"Saurimo\",\"Angola\",\"VHC\",\"FNSA\",-9.689067,20.431875,3584,1,\"N\",\"Africa/Luanda\"',\n '958,\"Soyo\",\"Soyo\",\"Angola\",\"SZA\",\"FNSO\",-6.141086,12.371764,15,1,\"N\",\"Africa/Luanda\"',\n '959,\"Lubango\",\"Lubango\",\"Angola\",\"SDD\",\"FNUB\",-14.924733,13.575022,5778,1,\"N\",\"Africa/Luanda\"',\n '960,\"Luena\",\"Luena\",\"Angola\",\"LUO\",\"FNUE\",-11.768086,19.897672,4360,1,\"N\",\"Africa/Luanda\"',\n '961,\"Uige\",\"Uige\",\"Angola\",\"UGO\",\"FNUG\",-7.603067,15.027822,2720,1,\"N\",\"Africa/Luanda\"',\n '962,\"Xangongo\",\"Xangongo\",\"Angola\",\"XGN\",\"FNXA\",-16.755417,14.965344,3635,1,\"N\",\"Africa/Luanda\"',\n '963,\"Oyem\",\"Oyem\",\"Gabon\",\"OYE\",\"FOGO\",1.543108,11.581361,2158,1,\"N\",\"Africa/Libreville\"',\n '964,\"Okondja\",\"Okondja\",\"Gabon\",\"OKN\",\"FOGQ\",-0.665214,13.673133,1325,1,\"N\",\"Africa/Libreville\"',\n '965,\"Lambarene\",\"Lambarene\",\"Gabon\",\"LBQ\",\"FOGR\",-0.704389,10.245722,82,1,\"N\",\"Africa/Libreville\"',\n '966,\"Bitam\",\"Bitam\",\"Gabon\",\"BMM\",\"FOOB\",2.075639,11.493195,1969,1,\"N\",\"Africa/Libreville\"',\n '967,\"Port Gentil\",\"Port Gentil\",\"Gabon\",\"POG\",\"FOOG\",-0.711739,8.754383,13,1,\"N\",\"Africa/Libreville\"',\n '968,\"Omboue Hopital\",\"Omboue Hospial\",\"Gabon\",\"OMB\",\"FOOH\",-1.574733,9.262694,33,1,\"N\",\"Africa/Libreville\"',\n '969,\"Makokou\",\"Makokou\",\"Gabon\",\"MKU\",\"FOOK\",0.579211,12.890908,1726,1,\"N\",\"Africa/Libreville\"',\n '970,\"Leon M Ba\",\"Libreville\",\"Gabon\",\"LBV\",\"FOOL\",0.4586,9.412283,39,1,\"N\",\"Africa/Libreville\"',\n '971,\"Mvengue\",\"Franceville\",\"Gabon\",\"MVB\",\"FOON\",-1.656156,13.438036,1450,1,\"N\",\"Africa/Libreville\"',\n '972,\"Principe\",\"Principe\",\"Sao Tome and Principe\",\"PCP\",\"FPPR\",1.662936,7.411742,591,0,\"N\",\"Africa/Sao_Tome\"',\n '973,\"Sao Tome Intl\",\"Sao Tome\",\"Sao Tome and Principe\",\"TMS\",\"FPST\",0.378175,6.712153,33,0,\"N\",\"Africa/Sao_Tome\"',\n '974,\"Beira\",\"Beira\",\"Mozambique\",\"BEW\",\"FQBR\",-19.796419,34.907556,33,2,\"U\",\"Africa/Maputo\"',\n '976,\"Inhambane\",\"Inhambane\",\"Mozambique\",\"INH\",\"FQIN\",-23.876431,35.408544,30,2,\"U\",\"Africa/Maputo\"',\n '977,\"Lichinga\",\"Lichinga\",\"Mozambique\",\"VXC\",\"FQLC\",-13.273986,35.266262,4505,2,\"U\",\"Africa/Maputo\"',\n '978,\"Lumbo\",\"Lumbo\",\"Mozambique\",\"\",\"FQLU\",-15.033058,40.671728,33,2,\"U\",\"Africa/Maputo\"',\n '979,\"Maputo\",\"Maputo\",\"Mozambique\",\"MPM\",\"FQMA\",-25.920836,32.572606,145,2,\"U\",\"Africa/Maputo\"',\n '980,\"Mueda\",\"Mueda\",\"Mozambique\",\"\",\"FQMD\",-11.672922,39.563142,2789,2,\"U\",\"Africa/Maputo\"',\n '981,\"Mocimboa Da Praia\",\"Mocimboa Da Praia\",\"Mozambique\",\"MZB\",\"FQMP\",-11.361789,40.354875,89,2,\"U\",\"Africa/Maputo\"',\n '982,\"Marrupa\",\"Marrupa\",\"Mozambique\",\"\",\"FQMR\",-13.225053,37.552067,2480,2,\"U\",\"Africa/Maputo\"',\n '983,\"Nacala\",\"Nacala\",\"Mozambique\",\"MNC\",\"FQNC\",-14.488233,40.71225,410,2,\"U\",\"Africa/Maputo\"',\n '984,\"Nampula\",\"Nampula\",\"Mozambique\",\"APL\",\"FQNP\",-15.105611,39.2818,1444,2,\"U\",\"Africa/Maputo\"',\n '985,\"Pemba\",\"Pemba\",\"Mozambique\",\"POL\",\"FQPB\",-12.986753,40.522492,331,2,\"U\",\"Africa/Maputo\"',\n '986,\"Quelimane\",\"Quelimane\",\"Mozambique\",\"UEL\",\"FQQL\",-17.8555,36.869106,36,2,\"U\",\"Africa/Maputo\"',\n '987,\"Songo\",\"Songo\",\"Mozambique\",\"\",\"FQSG\",-15.602694,32.773189,2904,2,\"U\",\"Africa/Maputo\"',\n '988,\"Tete Chingodzi\",\"Tete\",\"Mozambique\",\"TET\",\"FQTT\",-16.104817,33.640181,525,2,\"U\",\"Africa/Maputo\"',\n '989,\"Ulongwe\",\"Ulongwe\",\"Mozambique\",\"\",\"FQUG\",-14.704617,34.352369,4265,2,\"U\",\"Africa/Maputo\"',\n '990,\"Vilankulo\",\"Vilankulu\",\"Mozambique\",\"VNX\",\"FQVL\",-22.018431,35.313297,46,2,\"U\",\"Africa/Maputo\"',\n '991,\"Alphonse\",\"Alphonse\",\"Seychelles\",\"\",\"FSAL\",-7.004783,52.726247,10,4,\"U\",\"Indian/Mahe\"',\n '992,\"Desroches\",\"Desroches\",\"Seychelles\",\"DES\",\"FSDR\",-5.696697,53.655844,10,4,\"U\",\"Indian/Mahe\"',\n '993,\"Farquhar\",\"Farquhar\",\"Seychelles\",\"\",\"FSFA\",-10.109611,51.176119,10,4,\"U\",\"Indian/Mahe\"',\n '994,\"Seychelles Intl\",\"Mahe\",\"Seychelles\",\"SEZ\",\"FSIA\",-4.674342,55.521839,10,4,\"U\",\"Indian/Mahe\"',\n '995,\"Praslin\",\"Praslin\",\"Seychelles\",\"PRI\",\"FSPP\",-4.319292,55.691417,10,4,\"U\",\"Indian/Mahe\"',\n '996,\"Coetivy\",\"Coetivy\",\"Seychelles\",\"\",\"FSSC\",-7.134567,56.278239,10,4,\"U\",\"Indian/Mahe\"',\n '997,\"Abeche\",\"Abeche\",\"Chad\",\"AEH\",\"FTTC\",13.847,20.844333,1788,1,\"N\",\"Africa/Ndjamena\"',\n '998,\"Moundou\",\"Moundou\",\"Chad\",\"MQQ\",\"FTTD\",8.624406,16.071419,1407,1,\"N\",\"Africa/Ndjamena\"',\n '999,\"Ndjamena Hassan Djamous\",\"N\\'djamena\",\"Chad\",\"NDJ\",\"FTTJ\",12.133689,15.034019,968,1,\"N\",\"Africa/Ndjamena\"',\n '1000,\"Faya Largeau\",\"Faya-largeau\",\"Chad\",\"FYT\",\"FTTY\",17.917053,19.111078,771,1,\"N\",\"Africa/Ndjamena\"',\n '1001,\"J M Nkomo Intl\",\"Bulawayo\",\"Zimbabwe\",\"BUQ\",\"FVBU\",-20.017431,28.617869,4359,2,\"U\",\"Africa/Harare\"',\n '1002,\"Charles Prince\",\"Harare\",\"Zimbabwe\",\"\",\"FVCP\",-17.751561,30.924706,4845,2,\"U\",\"Africa/Harare\"',\n '1003,\"Buffalo Range\",\"Chiredzi\",\"Zimbabwe\",\"BFO\",\"FVCZ\",-21.008083,31.57855,1421,2,\"U\",\"Africa/Harare\"',\n '1004,\"Victoria Falls Intl\",\"Victoria Falls\",\"Zimbabwe\",\"VFA\",\"FVFA\",-18.095881,25.839006,3490,2,\"U\",\"Africa/Harare\"',\n '1005,\"Harare Intl\",\"Harare\",\"Zimbabwe\",\"HRE\",\"FVHA\",-17.931806,31.092847,4887,2,\"U\",\"Africa/Harare\"',\n '1006,\"Kariba Intl\",\"Kariba\",\"Zimbabwe\",\"KAB\",\"FVKB\",-16.519761,28.884981,1706,2,\"U\",\"Africa/Harare\"',\n '1007,\"Mutoko\",\"Mutoko\",\"Zimbabwe\",\"\",\"FVMT\",-17.431917,32.184502,3950,2,\"U\",\"Africa/Harare\"',\n '1008,\"Mutare\",\"Mutare\",\"Zimbabwe\",\"\",\"FVMU\",-18.997499,32.627224,3410,2,\"U\",\"Africa/Harare\"',\n '1009,\"Masvingo Intl\",\"Masvingo\",\"Zimbabwe\",\"MVZ\",\"FVMV\",-20.055333,30.859111,3595,2,\"U\",\"Africa/Harare\"',\n '1010,\"Zvishavane\",\"Zvishavane\",\"Zimbabwe\",\"\",\"FVSH\",-20.289497,30.088228,3012,2,\"U\",\"Africa/Harare\"',\n '1011,\"Gweru Thornhill\",\"Gwert\",\"Zimbabwe\",\"GWE\",\"FVTL\",-19.436394,29.861911,4680,2,\"U\",\"Africa/Harare\"',\n '1012,\"Hwange National Park\",\"Hwange National Park\",\"Zimbabwe\",\"WKM\",\"FVWN\",-18.629872,27.021042,3543,2,\"U\",\"Africa/Harare\"',\n '1013,\"Chileka Intl\",\"Blantyre\",\"Malawi\",\"BLZ\",\"FWCL\",-15.679053,34.974014,2555,2,\"U\",\"Africa/Blantyre\"',\n '1014,\"Karonga\",\"Karonga\",\"Malawi\",\"KGJ\",\"FWKA\",-9.953569,33.893022,1765,2,\"U\",\"Africa/Blantyre\"',\n '1015,\"Kasungu\",\"Kasungu\",\"Malawi\",\"\",\"FWKG\",-13.014631,33.468597,3470,2,\"U\",\"Africa/Blantyre\"',\n '1016,\"Kamuzu Intl\",\"Lilongwe\",\"Malawi\",\"LLW\",\"FWKI\",-13.789378,33.781,4035,2,\"U\",\"Africa/Blantyre\"',\n '1017,\"Mzuzu\",\"Mzuzu\",\"Malawi\",\"ZZU\",\"FWUU\",-11.44475,34.011776,4115,2,\"U\",\"Africa/Blantyre\"',\n ...]"
     ]
    }
   ],
   "source": [
    "airportrdd.collect()"
   ]
  },
  {
   "cell_type": "code",
   "execution_count": 0,
   "metadata": {
    "application/vnd.databricks.v1+cell": {
     "cellMetadata": {
      "byteLimit": 2048000,
      "rowLimit": 10000
     },
     "inputWidgets": {},
     "nuid": "abd0cc91-213c-45b4-9149-40d669c8c350",
     "showTitle": false,
     "title": ""
    }
   },
   "outputs": [
    {
     "output_type": "stream",
     "name": "stdout",
     "output_type": "stream",
     "text": [
      "Out[3]: ['1,\"Goroka\",\"Goroka\",\"Papua New Guinea\",\"GKA\",\"AYGA\",-6.081689,145.391881,5282,10,\"U\",\"Pacific/Port_Moresby\"',\n '2,\"Madang\",\"Madang\",\"Papua New Guinea\",\"MAG\",\"AYMD\",-5.207083,145.7887,20,10,\"U\",\"Pacific/Port_Moresby\"',\n '3,\"Mount Hagen\",\"Mount Hagen\",\"Papua New Guinea\",\"HGU\",\"AYMH\",-5.826789,144.295861,5388,10,\"U\",\"Pacific/Port_Moresby\"',\n '4,\"Nadzab\",\"Nadzab\",\"Papua New Guinea\",\"LAE\",\"AYNZ\",-6.569828,146.726242,239,10,\"U\",\"Pacific/Port_Moresby\"',\n '5,\"Port Moresby Jacksons Intl\",\"Port Moresby\",\"Papua New Guinea\",\"POM\",\"AYPY\",-9.443383,147.22005,146,10,\"U\",\"Pacific/Port_Moresby\"']"
     ]
    }
   ],
   "source": [
    "airportrdd.take(5)"
   ]
  },
  {
   "cell_type": "code",
   "execution_count": 0,
   "metadata": {
    "application/vnd.databricks.v1+cell": {
     "cellMetadata": {
      "byteLimit": 2048000,
      "rowLimit": 10000
     },
     "inputWidgets": {},
     "nuid": "d195dafe-a5a5-4f86-90b6-36bcf8571314",
     "showTitle": false,
     "title": ""
    }
   },
   "outputs": [
    {
     "output_type": "stream",
     "name": "stdout",
     "output_type": "stream",
     "text": [
      "Out[4]: ['1',\n '2',\n '3',\n '4',\n '5',\n '6',\n '7',\n '8',\n '9',\n '10',\n '11',\n '12',\n '13',\n '14',\n '15',\n '16',\n '17',\n '18',\n '19',\n '20',\n '21',\n '22']"
     ]
    }
   ],
   "source": [
    "airportrdd.map(lambda x : x.split(\",\")[0]).take(22)"
   ]
  },
  {
   "cell_type": "code",
   "execution_count": 0,
   "metadata": {
    "application/vnd.databricks.v1+cell": {
     "cellMetadata": {
      "byteLimit": 2048000,
      "rowLimit": 10000
     },
     "inputWidgets": {},
     "nuid": "791c7ce1-9bcc-4123-a3fa-4dacd4b9e496",
     "showTitle": false,
     "title": ""
    }
   },
   "outputs": [
    {
     "output_type": "stream",
     "name": "stdout",
     "output_type": "stream",
     "text": [
      "Out[5]: [('5', '\"Port Moresby Jacksons Intl\"')]"
     ]
    }
   ],
   "source": [
    "airportrdd.filter(lambda x:x.split(\",\")[0]==\"5\").map(lambda x : (x.split(\",\")[0],x.split(\",\")[1])).take(5)"
   ]
  },
  {
   "cell_type": "code",
   "execution_count": 0,
   "metadata": {
    "application/vnd.databricks.v1+cell": {
     "cellMetadata": {
      "byteLimit": 2048000,
      "rowLimit": 10000
     },
     "inputWidgets": {},
     "nuid": "a77f4d78-5827-465f-a55a-1253423a5eab",
     "showTitle": false,
     "title": ""
    }
   },
   "outputs": [],
   "source": [
    "# \n",
    "new_rdd=sc.textFile(\"dbfs:/FileStore/shared_uploads/rajendraku0000@gmail.com/temperatureRDD___temperatureRDD-1.csv\")"
   ]
  },
  {
   "cell_type": "code",
   "execution_count": 0,
   "metadata": {
    "application/vnd.databricks.v1+cell": {
     "cellMetadata": {
      "byteLimit": 2048000,
      "rowLimit": 10000
     },
     "inputWidgets": {},
     "nuid": "3f78ac99-42d4-437f-b95b-2abe3cb07a74",
     "showTitle": false,
     "title": ""
    }
   },
   "outputs": [
    {
     "output_type": "stream",
     "name": "stdout",
     "output_type": "stream",
     "text": [
      "Out[7]: ['Jaipur,Max,43', 'Jaipur,Min,23']"
     ]
    }
   ],
   "source": [
    "new_rdd.take(2)"
   ]
  },
  {
   "cell_type": "code",
   "execution_count": 0,
   "metadata": {
    "application/vnd.databricks.v1+cell": {
     "cellMetadata": {
      "byteLimit": 2048000,
      "rowLimit": 10000
     },
     "inputWidgets": {},
     "nuid": "4061bb03-e880-481f-a60f-f1ca9bc3dce1",
     "showTitle": false,
     "title": ""
    }
   },
   "outputs": [
    {
     "output_type": "stream",
     "name": "stdout",
     "output_type": "stream",
     "text": [
      "Out[11]: ['Jaipur,Max,43',\n 'Jaipur,Min,23',\n 'Jaipur,Max,3',\n 'Jaipur,Min,-125',\n 'Jaipur,Max,-23']"
     ]
    }
   ],
   "source": [
    "new_rdd.filter(lambda x:x.split(\",\")[0]==\"Jaipur\").take(5)"
   ]
  },
  {
   "cell_type": "code",
   "execution_count": 0,
   "metadata": {
    "application/vnd.databricks.v1+cell": {
     "cellMetadata": {
      "byteLimit": 2048000,
      "rowLimit": 10000
     },
     "inputWidgets": {},
     "nuid": "a0558e64-df18-48d5-93ac-d895b230f396",
     "showTitle": false,
     "title": ""
    }
   },
   "outputs": [],
   "source": [
    "def splitdata(line):\n",
    "    line=line.split(\",\")\n",
    "    a=line[0]\n",
    "    b=line[1]\n",
    "    c=int(line[2])\n",
    "    return a,b,c\n",
    "    \n",
    "\n",
    "\n",
    "# new_rdd.filter(splitdata).take(5)"
   ]
  },
  {
   "cell_type": "code",
   "execution_count": 0,
   "metadata": {
    "application/vnd.databricks.v1+cell": {
     "cellMetadata": {
      "byteLimit": 2048000,
      "rowLimit": 10000
     },
     "inputWidgets": {},
     "nuid": "6ac8fe3a-d333-4fbc-a3ab-d43f649603e5",
     "showTitle": false,
     "title": ""
    }
   },
   "outputs": [],
   "source": [
    "new1=new_rdd.map(splitdata)"
   ]
  },
  {
   "cell_type": "code",
   "execution_count": 0,
   "metadata": {
    "application/vnd.databricks.v1+cell": {
     "cellMetadata": {
      "byteLimit": 2048000,
      "rowLimit": 10000
     },
     "inputWidgets": {},
     "nuid": "4378ed69-b689-4a53-822d-f498ff137864",
     "showTitle": false,
     "title": ""
    }
   },
   "outputs": [],
   "source": [
    "new1=new1.filter(lambda x:x[1]==\"Max\")"
   ]
  },
  {
   "cell_type": "code",
   "execution_count": 0,
   "metadata": {
    "application/vnd.databricks.v1+cell": {
     "cellMetadata": {
      "byteLimit": 2048000,
      "rowLimit": 10000
     },
     "inputWidgets": {},
     "nuid": "4e8027c1-ebc2-4b62-b522-e27342f55011",
     "showTitle": false,
     "title": ""
    }
   },
   "outputs": [],
   "source": [
    "new1=new1.map(lambda x:(x[0],x[2]))"
   ]
  },
  {
   "cell_type": "code",
   "execution_count": 0,
   "metadata": {
    "application/vnd.databricks.v1+cell": {
     "cellMetadata": {
      "byteLimit": 2048000,
      "rowLimit": 10000
     },
     "inputWidgets": {},
     "nuid": "3ab92d86-80ef-4bf6-be70-87cb614e9b4a",
     "showTitle": false,
     "title": ""
    }
   },
   "outputs": [
    {
     "output_type": "stream",
     "name": "stdout",
     "output_type": "stream",
     "text": [
      "Out[46]: [('Jaipur', 43),\n ('jammu', 63),\n ('Jaipur', 3),\n ('jammu', -44),\n ('Jaipur', -23),\n ('jammu', 6),\n ('Jaipur', 5),\n ('jammu', -55),\n ('Jaipur', 10),\n ('jammu', -40),\n ('Jaipur', 13),\n ('jammu', -39),\n ('Jaipur', 31),\n ('jammu', -30),\n ('Jaipur', 62),\n ('jammu', -1),\n ('Jaipur', 35),\n ('jammu', 5),\n ('Jaipur', 46),\n ('jammu', -46),\n ('Jaipur', 66),\n ('jammu', 1),\n ('Jaipur', 41),\n ('jammu', -33),\n ('Jaipur', 23),\n ('jammu', -20),\n ('Jaipur', 41),\n ('jammu', 0),\n ('Jaipur', 54),\n ('jammu', 10),\n ('Jaipur', 56),\n ('jammu', -11),\n ('Jaipur', 28),\n ('jammu', 14),\n ('Jaipur', 59),\n ('jammu', 47),\n ('Jaipur', 59),\n ('jammu', 66),\n ('Jaipur', 60),\n ('jammu', 58),\n ('Jaipur', 80),\n ('jammu', 31),\n ('Jaipur', 81),\n ('jammu', 8),\n ('Jaipur', 85),\n ('jammu', 18),\n ('Jaipur', 85),\n ('jammu', 31),\n ('Jaipur', 98),\n ('jammu', 35),\n ('Jaipur', 75),\n ('jammu', 44),\n ('Jaipur', 73),\n ('jammu', 57),\n ('Jaipur', 79),\n ('jammu', 69),\n ('Jaipur', 73),\n ('jammu', 67),\n ('Jaipur', 66),\n ('jammu', 29),\n ('Jaipur', 85),\n ('jammu', 62),\n ('Jaipur', 91),\n ('jammu', 48),\n ('Jaipur', 66),\n ('jammu', 67),\n ('Jaipur', 56),\n ('jammu', 53),\n ('Jaipur', 104),\n ('jammu', 66),\n ('Jaipur', 79),\n ('jammu', 59),\n ('Jaipur', 75),\n ('jammu', 24),\n ('Jaipur', 73),\n ('jammu', 4),\n ('Jaipur', 50),\n ('jammu', -20),\n ('Jaipur', 35),\n ('jammu', -17),\n ('Jaipur', 38),\n ('jammu', -25),\n ('Jaipur', 21),\n ('jammu', -34),\n ('Jaipur', 13),\n ('jammu', -22),\n ('Jaipur', 13),\n ('jammu', 1),\n ('Jaipur', 13),\n ('jammu', 5),\n ('Jaipur', 21),\n ('jammu', 18),\n ('Jaipur', 75),\n ('jammu', 24),\n ('Jaipur', 71),\n ('jammu', 20),\n ('Jaipur', 48),\n ('jammu', 0),\n ('Jaipur', 50),\n ('jammu', -6),\n ('Jaipur', 66),\n ('jammu', -34),\n ('Jaipur', 66),\n ('jammu', -16),\n ('Jaipur', 63),\n ('jammu', 33),\n ('Jaipur', 81),\n ('jammu', 40),\n ('Jaipur', 104),\n ('jammu', 56),\n ('Jaipur', 116),\n ('jammu', 20),\n ('Jaipur', 129),\n ('jammu', 15),\n ('Jaipur', 100),\n ('jammu', -39),\n ('Jaipur', 75),\n ('jammu', 25),\n ('Jaipur', 100),\n ('jammu', -21),\n ('Jaipur', 79),\n ('jammu', 4),\n ('Jaipur', 54),\n ('jammu', 10),\n ('Jaipur', 84),\n ('jammu', 32),\n ('Jaipur', 79),\n ('jammu', -14),\n ('Jaipur', 60),\n ('jammu', -34),\n ('Jaipur', 34),\n ('jammu', -42),\n ('Jaipur', 38),\n ('jammu', -49),\n ('Jaipur', 79),\n ('jammu', -63),\n ('Jaipur', 75),\n ('jammu', -34),\n ('Jaipur', 79),\n ('jammu', -33),\n ('Jaipur', 69),\n ('jammu', -22),\n ('Jaipur', 75),\n ('jammu', -24),\n ('Jaipur', 100),\n ('jammu', 11),\n ('Jaipur', 109),\n ('jammu', -1),\n ('Jaipur', 113),\n ('jammu', 10),\n ('Jaipur', 109),\n ('jammu', 30),\n ('Jaipur', 91),\n ('jammu', 26),\n ('Jaipur', 125),\n ('jammu', 36),\n ('Jaipur', 116),\n ('jammu', 13),\n ('Jaipur', 109),\n ('jammu', 15),\n ('Jaipur', 71),\n ('jammu', 14),\n ('Jaipur', 75),\n ('jammu', 4),\n ('Jaipur', 81),\n ('jammu', 33),\n ('Jaipur', 85),\n ('jammu', 68),\n ('Jaipur', 110),\n ('jammu', 71),\n ('Jaipur', 113),\n ('jammu', 84),\n ('Jaipur', 125),\n ('jammu', 86),\n ('Jaipur', 110),\n ('jammu', 82),\n ('Jaipur', 141),\n ('jammu', 91),\n ('Jaipur', 138),\n ('jammu', 123),\n ('Jaipur', 109),\n ('jammu', 98),\n ('Jaipur', 104),\n ('jammu', 128),\n ('Jaipur', 128),\n ('jammu', 116),\n ('Jaipur', 153),\n ('jammu', 157),\n ('Jaipur', 166),\n ('jammu', 134),\n ('Jaipur', 178),\n ('jammu', 168),\n ('Jaipur', 198),\n ('jammu', 160),\n ('Jaipur', 200),\n ('jammu', 203),\n ('Jaipur', 200),\n ('jammu', 193),\n ('Jaipur', 200),\n ('jammu', 212),\n ('Jaipur', 200),\n ('jammu', 171),\n ('Jaipur', 200),\n ('jammu', 170),\n ('Jaipur', 181),\n ('jammu', 185),\n ('Jaipur', 188),\n ('jammu', 145),\n ('Jaipur', 206),\n ('jammu', 194),\n ('Jaipur', 216),\n ('jammu', 203),\n ('Jaipur', 213),\n ('jammu', 248),\n ('Jaipur', 216),\n ('jammu', 246),\n ('Jaipur', 191),\n ('jammu', 208),\n ('Jaipur', 231),\n ('jammu', 212),\n ('Jaipur', 235),\n ('jammu', 228),\n ('Jaipur', 216),\n ('jammu', 277),\n ('Jaipur', 191),\n ('jammu', 250),\n ('Jaipur', 204),\n ('jammu', 238),\n ('Jaipur', 163),\n ('jammu', 230),\n ('Jaipur', 179),\n ('jammu', 258),\n ('Jaipur', 204),\n ('jammu', 279),\n ('Jaipur', 223),\n ('jammu', 259),\n ('Jaipur', 225),\n ('jammu', 286),\n ('Jaipur', 206),\n ('jammu', 273),\n ('Jaipur', 206),\n ('jammu', 183),\n ('Jaipur', 223),\n ('jammu', 226),\n ('Jaipur', 235),\n ('jammu', 240),\n ('Jaipur', 238),\n ('jammu', 231),\n ('Jaipur', 225),\n ('jammu', 217),\n ('Jaipur', 175),\n ('jammu', 214),\n ('Jaipur', 188),\n ('jammu', 231),\n ('Jaipur', 213),\n ('jammu', 240),\n ('Jaipur', 225),\n ('jammu', 245),\n ('Jaipur', 188),\n ('jammu', 241),\n ('Jaipur', 210),\n ('jammu', 162),\n ('Jaipur', 204),\n ('jammu', 162),\n ('Jaipur', 188),\n ('jammu', 197),\n ('Jaipur', 200),\n ('jammu', 209),\n ('Jaipur', 213),\n ('jammu', 161),\n ('Jaipur', 213),\n ('jammu', 188),\n ('Jaipur', 209),\n ('jammu', 220),\n ('Jaipur', 213),\n ('jammu', 186),\n ('Jaipur', 200),\n ('jammu', 172),\n ('Jaipur', 225),\n ('jammu', 225),\n ('Jaipur', 238),\n ('jammu', 247),\n ('Jaipur', 263),\n ('jammu', 262),\n ('Jaipur', 250),\n ('jammu', 270),\n ('Jaipur', 225),\n ('jammu', 282),\n ('Jaipur', 238),\n ('jammu', 232),\n ('Jaipur', 263),\n ('jammu', 226),\n ('Jaipur', 269),\n ('jammu', 246),\n ('Jaipur', 244),\n ('jammu', 261),\n ('Jaipur', 216),\n ('jammu', 258),\n ('Jaipur', 259),\n ('jammu', 238),\n ('Jaipur', 254),\n ('jammu', 210),\n ('Jaipur', 204),\n ('jammu', 191),\n ('Jaipur', 216),\n ('jammu', 193),\n ('Jaipur', 213),\n ('jammu', 192),\n ('Jaipur', 225),\n ('jammu', 216),\n ('Jaipur', 256),\n ('jammu', 226),\n ('Jaipur', 250),\n ('jammu', 227),\n ('Jaipur', 198),\n ('jammu', 219),\n ('Jaipur', 191),\n ('jammu', 164),\n ('Jaipur', 223),\n ('jammu', 191),\n ('Jaipur', 248),\n ('jammu', 191),\n ('Jaipur', 229),\n ('jammu', 185),\n ('Jaipur', 206),\n ('jammu', 190),\n ('Jaipur', 229),\n ('jammu', 198),\n ('Jaipur', 216),\n ('jammu', 212),\n ('Jaipur', 216),\n ('jammu', 148),\n ('Jaipur', 216),\n ('jammu', 139),\n ('Jaipur', 225),\n ('jammu', 131),\n ('Jaipur', 235),\n ('jammu', 140),\n ('Jaipur', 235),\n ('jammu', 164),\n ('Jaipur', 254),\n ('jammu', 210),\n ('Jaipur', 259),\n ('jammu', 195),\n ('Jaipur', 213),\n ('jammu', 192),\n ('Jaipur', 241),\n ('jammu', 182),\n ('Jaipur', 241),\n ('jammu', 194),\n ('Jaipur', 254),\n ('jammu', 217),\n ('Jaipur', 263),\n ('jammu', 233),\n ('Jaipur', 275),\n ('jammu', 234),\n ('Jaipur', 288),\n ('jammu', 227),\n ('Jaipur', 265),\n ('jammu', 250),\n ('Jaipur', 279),\n ('jammu', 214),\n ('Jaipur', 275),\n ('jammu', 180),\n ('Jaipur', 241),\n ('jammu', 193),\n ('Jaipur', 254),\n ('jammu', 240),\n ('Jaipur', 288),\n ('jammu', 216),\n ('Jaipur', 275),\n ('jammu', 281),\n ('Jaipur', 288),\n ('jammu', 285),\n ('Jaipur', 278),\n ('jammu', 286),\n ('Jaipur', 300),\n ('jammu', 293),\n ('Jaipur', 304),\n ('jammu', 306),\n ('Jaipur', 319),\n ('jammu', 290),\n ('Jaipur', 304),\n ('jammu', 195),\n ('Jaipur', 285),\n ('jammu', 244),\n ('Jaipur', 300),\n ('jammu', 217),\n ('Jaipur', 300),\n ('jammu', 186),\n ('Jaipur', 266),\n ('jammu', 192),\n ('Jaipur', 248),\n ('jammu', 185),\n ('Jaipur', 275),\n ('jammu', 204),\n ('Jaipur', 294),\n ('jammu', 193),\n ('Jaipur', 284),\n ('jammu', 200),\n ('Jaipur', 263),\n ('jammu', 204),\n ('Jaipur', 285),\n ('jammu', 170),\n ('Jaipur', 266),\n ('jammu', 178),\n ('Jaipur', 250),\n ('jammu', 190),\n ('Jaipur', 254),\n ('jammu', 213),\n ('Jaipur', 269),\n ('jammu', 238),\n ('Jaipur', 281),\n ('jammu', 220),\n ('Jaipur', 271),\n ('jammu', 222),\n ('Jaipur', 269),\n ('jammu', 233),\n ('Jaipur', 241),\n ('jammu', 230),\n ('Jaipur', 241),\n ('jammu', 230),\n ('Jaipur', 271),\n ('jammu', 227),\n ('Jaipur', 250),\n ('jammu', 242),\n ('Jaipur', 263),\n ('jammu', 250),\n ('Jaipur', 275),\n ('jammu', 281),\n ('Jaipur', 288),\n ('jammu', 316),\n ('Jaipur', 309),\n ('jammu', 248),\n ('Jaipur', 288),\n ('jammu', 216),\n ('Jaipur', 298),\n ('jammu', 210),\n ('Jaipur', 223),\n ('jammu', 193),\n ('Jaipur', 240),\n ('jammu', 214),\n ('Jaipur', 246),\n ('jammu', 251),\n ('Jaipur', 271),\n ('jammu', 246),\n ('Jaipur', 259),\n ('jammu', 262),\n ('Jaipur', 281),\n ('jammu', 287),\n ('Jaipur', 284),\n ('jammu', 306),\n ('Jaipur', 298),\n ('jammu', 307),\n ('Jaipur', 304),\n ('jammu', 304),\n ('Jaipur', 309),\n ('jammu', 275),\n ('Jaipur', 313),\n ('jammu', 323),\n ('Jaipur', 323),\n ('jammu', 290),\n ('Jaipur', 310),\n ('jammu', 274),\n ('Jaipur', 298),\n ('jammu', 253),\n ('Jaipur', 279),\n ('jammu', 206),\n ('Jaipur', 213),\n ('jammu', 231),\n ('Jaipur', 229),\n ('jammu', 213),\n ('Jaipur', 241),\n ('jammu', 200),\n ('Jaipur', 210),\n ('jammu', 215),\n ('Jaipur', 234),\n ('jammu', 220),\n ('Jaipur', 234),\n ('jammu', 203),\n ('Jaipur', 241),\n ('jammu', 203),\n ('Jaipur', 241),\n ('jammu', 196),\n ('Jaipur', 240),\n ('jammu', 177),\n ('Jaipur', 241),\n ('jammu', 193),\n ('Jaipur', 179),\n ('jammu', 209),\n ('Jaipur', 216),\n ('jammu', 197),\n ('Jaipur', 229),\n ('jammu', 214),\n ('Jaipur', 238),\n ('jammu', 210),\n ('Jaipur', 238),\n ('jammu', 225),\n ('Jaipur', 223),\n ('jammu', 230),\n ('Jaipur', 238),\n ('jammu', 227),\n ('Jaipur', 250),\n ('jammu', 194),\n ('Jaipur', 238),\n ('jammu', 202),\n ('Jaipur', 248),\n ('jammu', 181),\n ('Jaipur', 238),\n ('jammu', 186),\n ('Jaipur', 241),\n ('jammu', 177),\n ('Jaipur', 229),\n ('jammu', 183),\n ('Jaipur', 225),\n ('jammu', 198),\n ('Jaipur', 229),\n ('jammu', 205),\n ('Jaipur', 235),\n ('jammu', 199),\n ('Jaipur', 246),\n ('jammu', 217),\n ('Jaipur', 241),\n ('jammu', 217),\n ('Jaipur', 225),\n ('jammu', 210),\n ('Jaipur', 231),\n ('jammu', 193),\n ('Jaipur', 235),\n ('jammu', 169),\n ('Jaipur', 234),\n ('jammu', 170),\n ('Jaipur', 234),\n ('jammu', 164),\n ('Jaipur', 238),\n ('jammu', 156),\n ('Jaipur', 198),\n ('jammu', 144),\n ('Jaipur', 213),\n ('jammu', 134),\n ('Jaipur', 213),\n ('jammu', 158),\n ('Jaipur', 196),\n ('jammu', 131),\n ('Jaipur', 200),\n ('jammu', 157),\n ('Jaipur', 188),\n ('jammu', 133),\n ('Jaipur', 194),\n ('jammu', 135),\n ('Jaipur', 200),\n ('jammu', 164),\n ('Jaipur', 200),\n ('jammu', 136),\n ('Jaipur', 185),\n ('jammu', 150),\n ('Jaipur', 181),\n ('jammu', 149),\n ('Jaipur', 169),\n ('jammu', 163),\n ('Jaipur', 184),\n ('jammu', 165),\n ('Jaipur', 184),\n ('jammu', 174),\n ('Jaipur', 181),\n ('jammu', 169),\n ('Jaipur', 188),\n ('jammu', 136),\n ('Jaipur', 175),\n ('jammu', 147),\n ('Jaipur', 175),\n ('jammu', 127),\n ('Jaipur', 171),\n ('jammu', 135),\n ('Jaipur', 171),\n ('jammu', 124),\n ('Jaipur', 166),\n ('jammu', 119),\n ('Jaipur', 184),\n ('jammu', 81),\n ('Jaipur', 154),\n ('jammu', 99),\n ('Jaipur', 150),\n ('jammu', 127),\n ('Jaipur', 149),\n ('jammu', 136),\n ('Jaipur', 148),\n ('jammu', 133),\n ('Jaipur', 129),\n ('jammu', 106),\n ('Jaipur', 116),\n ('jammu', 75),\n ('Jaipur', 104),\n ('jammu', 92),\n ('Jaipur', 121),\n ('jammu', 76),\n ('Jaipur', 129),\n ('jammu', 90),\n ('Jaipur', 134),\n ('jammu', 102),\n ('Jaipur', 148),\n ('jammu', 99),\n ('Jaipur', 150),\n ('jammu', 97),\n ('Jaipur', 150),\n ('jammu', 123),\n ('Jaipur', 125),\n ('jammu', 90),\n ('Jaipur', 150),\n ('jammu', 88),\n ('Jaipur', 141),\n ('jammu', 93),\n ('Jaipur', 135),\n ('jammu', 114),\n ('Jaipur', 113),\n ('jammu', 116),\n ('Jaipur', 109),\n ('jammu', 85),\n ('Jaipur', 113),\n ('jammu', 84),\n ('Jaipur', 123),\n ('jammu', 86),\n ('Jaipur', 110),\n ('jammu', 122),\n ('Jaipur', 113),\n ('jammu', 173),\n ('Jaipur', 146),\n ('jammu', 147),\n ('Jaipur', 146),\n ('jammu', 97),\n ('Jaipur', 134),\n ('jammu', 103),\n ('Jaipur', 113),\n ('jammu', 80),\n ('Jaipur', 131),\n ('jammu', 81),\n ('Jaipur', 119),\n ('jammu', 44),\n ('Jaipur', 94),\n ('jammu', 63),\n ('Jaipur', 94),\n ('jammu', 70),\n ('Jaipur', 98),\n ('jammu', 70),\n ('Jaipur', 109),\n ('jammu', 68),\n ('Jaipur', 116),\n ('jammu', 57),\n ('Jaipur', 91),\n ('jammu', 29),\n ('Jaipur', 60),\n ('jammu', 34),\n ('Jaipur', 69),\n ('jammu', 58),\n ('Jaipur', 63),\n ('jammu', 69),\n ('Jaipur', 63),\n ('jammu', 43),\n ('Jaipur', 59),\n ('jammu', 45),\n ('Jaipur', 48),\n ('jammu', 56),\n ('Jaipur', 63),\n ('jammu', 38),\n ('Jaipur', 66),\n ('jammu', 42),\n ('Jaipur', 66),\n ('jammu', 22),\n ('Jaipur', 29),\n ('jammu', 34),\n ('Jaipur', 10),\n ('jammu', 39),\n ('Jaipur', 16),\n ('jammu', 49),\n ('Jaipur', 13),\n ('jammu', 34),\n ('Jaipur', 54),\n ('jammu', 23),\n ('Jaipur', 29),\n ('jammu', 63),\n ('Jaipur', 13),\n ('jammu', 38),\n ('Jaipur', 0),\n ('jammu', 24),\n ('Jaipur', 10),\n ('jammu', 24),\n ('Jaipur', 21),\n ('jammu', 27),\n ('Jaipur', 41),\n ('jammu', 47),\n ('Jaipur', 46),\n ('jammu', 44),\n ('Jaipur', 71),\n ('jammu', 45),\n ('Jaipur', 85),\n ('jammu', 38),\n ('Jaipur', 91),\n ('jammu', 27),\n ('Jaipur', 66),\n ('jammu', 23),\n ('Jaipur', 50),\n ('jammu', -1),\n ('Jaipur', 54),\n ('jammu', -8),\n ('Jaipur', 29),\n ('jammu', -14),\n ('Jaipur', 13),\n ('jammu', -14),\n ('Jaipur', 10),\n ('jammu', 4),\n ('Jaipur', 16),\n ('jammu', 54),\n ('Jaipur', 23),\n ('jammu', 52),\n ('Jaipur', 16),\n ('jammu', 30),\n ('Jaipur', 25),\n ('jammu', 21),\n ('Jaipur', 38),\n ('jammu', 36),\n ('Jaipur', 10),\n ('jammu', 47),\n ('Jaipur', 35),\n ('jammu', 43),\n ('Jaipur', 50),\n ('jammu', 45),\n ('Jaipur', 50),\n ('jammu', 96),\n ('Jaipur', 50),\n ('jammu', 14)]"
     ]
    }
   ],
   "source": [
    " new1.collect()"
   ]
  },
  {
   "cell_type": "code",
   "execution_count": 0,
   "metadata": {
    "application/vnd.databricks.v1+cell": {
     "cellMetadata": {
      "byteLimit": 2048000,
      "rowLimit": 10000
     },
     "inputWidgets": {},
     "nuid": "64ac1229-37fb-4f2a-b441-5f62ccced8dd",
     "showTitle": false,
     "title": ""
    }
   },
   "outputs": [],
   "source": [
    "raj=sc.parallelize([10,20,30,40,10])"
   ]
  },
  {
   "cell_type": "code",
   "execution_count": 0,
   "metadata": {
    "application/vnd.databricks.v1+cell": {
     "cellMetadata": {
      "byteLimit": 2048000,
      "rowLimit": 10000
     },
     "inputWidgets": {},
     "nuid": "71d54f18-1484-47ab-a8bc-821c6db9026c",
     "showTitle": false,
     "title": ""
    }
   },
   "outputs": [
    {
     "output_type": "stream",
     "name": "stdout",
     "output_type": "stream",
     "text": [
      "Out[55]: 110"
     ]
    }
   ],
   "source": [
    "raj.reduce(lambda x ,y:x+y)"
   ]
  },
  {
   "cell_type": "code",
   "execution_count": 0,
   "metadata": {
    "application/vnd.databricks.v1+cell": {
     "cellMetadata": {
      "byteLimit": 2048000,
      "rowLimit": 10000
     },
     "inputWidgets": {},
     "nuid": "a92f2fe3-40a6-4991-834d-30e3de621fd8",
     "showTitle": false,
     "title": ""
    }
   },
   "outputs": [
    {
     "output_type": "stream",
     "name": "stdout",
     "output_type": "stream",
     "text": [
      "Out[56]: [(10, 1), (20, 1), (30, 1), (40, 1), (10, 1)]"
     ]
    }
   ],
   "source": [
    "raj.map(lambda x : (x,1)).collect()"
   ]
  },
  {
   "cell_type": "code",
   "execution_count": 0,
   "metadata": {
    "application/vnd.databricks.v1+cell": {
     "cellMetadata": {
      "byteLimit": 2048000,
      "rowLimit": 10000
     },
     "inputWidgets": {},
     "nuid": "cf5c83e9-430b-4740-81c5-a9d8e91a48fd",
     "showTitle": false,
     "title": ""
    }
   },
   "outputs": [
    {
     "output_type": "stream",
     "name": "stdout",
     "output_type": "stream",
     "text": [
      "Out[61]: [(40, 1), (10, 2), (20, 1), (30, 1)]"
     ]
    }
   ],
   "source": [
    "raj.map(lambda x : (x,1)).reduceByKey(lambda x,y : x+y).collect()"
   ]
  },
  {
   "cell_type": "code",
   "execution_count": 0,
   "metadata": {
    "application/vnd.databricks.v1+cell": {
     "cellMetadata": {
      "byteLimit": 2048000,
      "rowLimit": 10000
     },
     "inputWidgets": {},
     "nuid": "891c192f-f332-4edb-9b40-4f828514236e",
     "showTitle": false,
     "title": ""
    }
   },
   "outputs": [],
   "source": [
    "new=new1.reduceByKey(lambda x,y:min(x,y) ).collect()"
   ]
  },
  {
   "cell_type": "code",
   "execution_count": 0,
   "metadata": {
    "application/vnd.databricks.v1+cell": {
     "cellMetadata": {
      "byteLimit": 2048000,
      "rowLimit": 10000
     },
     "inputWidgets": {},
     "nuid": "911309c7-56e4-4524-b6b6-acac76c88d0a",
     "showTitle": false,
     "title": ""
    }
   },
   "outputs": [
    {
     "output_type": "stream",
     "name": "stdout",
     "output_type": "stream",
     "text": [
      "('Jaipur', -23)\n('jammu', -63)\n"
     ]
    }
   ],
   "source": [
    "for i in new:\n",
    "    print(i)"
   ]
  },
  {
   "cell_type": "code",
   "execution_count": 0,
   "metadata": {
    "application/vnd.databricks.v1+cell": {
     "cellMetadata": {
      "byteLimit": 2048000,
      "rowLimit": 10000
     },
     "inputWidgets": {},
     "nuid": "fc539a6a-5bc3-45ca-8aa3-6545c5a230c1",
     "showTitle": false,
     "title": ""
    }
   },
   "outputs": [
    {
     "output_type": "display_data",
     "data": {
      "text/plain": [
       "\u001B[0;31m---------------------------------------------------------------------------\u001B[0m\n",
       "\u001B[0;31mPy4JJavaError\u001B[0m                             Traceback (most recent call last)\n",
       "File \u001B[0;32m<command-1464622075133874>:1\u001B[0m\n",
       "\u001B[0;32m----> 1\u001B[0m new\u001B[38;5;241m=\u001B[39m\u001B[43mnew1\u001B[49m\u001B[38;5;241;43m.\u001B[39;49m\u001B[43mreduceByKey\u001B[49m\u001B[43m(\u001B[49m\u001B[38;5;28;43;01mlambda\u001B[39;49;00m\u001B[43m \u001B[49m\u001B[43mx\u001B[49m\u001B[43m,\u001B[49m\u001B[43my\u001B[49m\u001B[43m:\u001B[49m\u001B[43maverage\u001B[49m\u001B[43m(\u001B[49m\u001B[43mx\u001B[49m\u001B[43m,\u001B[49m\u001B[43my\u001B[49m\u001B[43m)\u001B[49m\u001B[43m \u001B[49m\u001B[43m)\u001B[49m\u001B[38;5;241;43m.\u001B[39;49m\u001B[43mcollect\u001B[49m\u001B[43m(\u001B[49m\u001B[43m)\u001B[49m\n",
       "\n",
       "File \u001B[0;32m/databricks/spark/python/pyspark/instrumentation_utils.py:48\u001B[0m, in \u001B[0;36m_wrap_function.<locals>.wrapper\u001B[0;34m(*args, **kwargs)\u001B[0m\n",
       "\u001B[1;32m     46\u001B[0m start \u001B[38;5;241m=\u001B[39m time\u001B[38;5;241m.\u001B[39mperf_counter()\n",
       "\u001B[1;32m     47\u001B[0m \u001B[38;5;28;01mtry\u001B[39;00m:\n",
       "\u001B[0;32m---> 48\u001B[0m     res \u001B[38;5;241m=\u001B[39m \u001B[43mfunc\u001B[49m\u001B[43m(\u001B[49m\u001B[38;5;241;43m*\u001B[39;49m\u001B[43margs\u001B[49m\u001B[43m,\u001B[49m\u001B[43m \u001B[49m\u001B[38;5;241;43m*\u001B[39;49m\u001B[38;5;241;43m*\u001B[39;49m\u001B[43mkwargs\u001B[49m\u001B[43m)\u001B[49m\n",
       "\u001B[1;32m     49\u001B[0m     logger\u001B[38;5;241m.\u001B[39mlog_success(\n",
       "\u001B[1;32m     50\u001B[0m         module_name, class_name, function_name, time\u001B[38;5;241m.\u001B[39mperf_counter() \u001B[38;5;241m-\u001B[39m start, signature\n",
       "\u001B[1;32m     51\u001B[0m     )\n",
       "\u001B[1;32m     52\u001B[0m     \u001B[38;5;28;01mreturn\u001B[39;00m res\n",
       "\n",
       "File \u001B[0;32m/databricks/spark/python/pyspark/rdd.py:1825\u001B[0m, in \u001B[0;36mRDD.collect\u001B[0;34m(self)\u001B[0m\n",
       "\u001B[1;32m   1823\u001B[0m \u001B[38;5;28;01mwith\u001B[39;00m SCCallSiteSync(\u001B[38;5;28mself\u001B[39m\u001B[38;5;241m.\u001B[39mcontext):\n",
       "\u001B[1;32m   1824\u001B[0m     \u001B[38;5;28;01massert\u001B[39;00m \u001B[38;5;28mself\u001B[39m\u001B[38;5;241m.\u001B[39mctx\u001B[38;5;241m.\u001B[39m_jvm \u001B[38;5;129;01mis\u001B[39;00m \u001B[38;5;129;01mnot\u001B[39;00m \u001B[38;5;28;01mNone\u001B[39;00m\n",
       "\u001B[0;32m-> 1825\u001B[0m     sock_info \u001B[38;5;241m=\u001B[39m \u001B[38;5;28;43mself\u001B[39;49m\u001B[38;5;241;43m.\u001B[39;49m\u001B[43mctx\u001B[49m\u001B[38;5;241;43m.\u001B[39;49m\u001B[43m_jvm\u001B[49m\u001B[38;5;241;43m.\u001B[39;49m\u001B[43mPythonRDD\u001B[49m\u001B[38;5;241;43m.\u001B[39;49m\u001B[43mcollectAndServe\u001B[49m\u001B[43m(\u001B[49m\u001B[38;5;28;43mself\u001B[39;49m\u001B[38;5;241;43m.\u001B[39;49m\u001B[43m_jrdd\u001B[49m\u001B[38;5;241;43m.\u001B[39;49m\u001B[43mrdd\u001B[49m\u001B[43m(\u001B[49m\u001B[43m)\u001B[49m\u001B[43m)\u001B[49m\n",
       "\u001B[1;32m   1826\u001B[0m \u001B[38;5;28;01mreturn\u001B[39;00m \u001B[38;5;28mlist\u001B[39m(_load_from_socket(sock_info, \u001B[38;5;28mself\u001B[39m\u001B[38;5;241m.\u001B[39m_jrdd_deserializer))\n",
       "\n",
       "File \u001B[0;32m/databricks/spark/python/lib/py4j-0.10.9.5-src.zip/py4j/java_gateway.py:1321\u001B[0m, in \u001B[0;36mJavaMember.__call__\u001B[0;34m(self, *args)\u001B[0m\n",
       "\u001B[1;32m   1315\u001B[0m command \u001B[38;5;241m=\u001B[39m proto\u001B[38;5;241m.\u001B[39mCALL_COMMAND_NAME \u001B[38;5;241m+\u001B[39m\\\n",
       "\u001B[1;32m   1316\u001B[0m     \u001B[38;5;28mself\u001B[39m\u001B[38;5;241m.\u001B[39mcommand_header \u001B[38;5;241m+\u001B[39m\\\n",
       "\u001B[1;32m   1317\u001B[0m     args_command \u001B[38;5;241m+\u001B[39m\\\n",
       "\u001B[1;32m   1318\u001B[0m     proto\u001B[38;5;241m.\u001B[39mEND_COMMAND_PART\n",
       "\u001B[1;32m   1320\u001B[0m answer \u001B[38;5;241m=\u001B[39m \u001B[38;5;28mself\u001B[39m\u001B[38;5;241m.\u001B[39mgateway_client\u001B[38;5;241m.\u001B[39msend_command(command)\n",
       "\u001B[0;32m-> 1321\u001B[0m return_value \u001B[38;5;241m=\u001B[39m \u001B[43mget_return_value\u001B[49m\u001B[43m(\u001B[49m\n",
       "\u001B[1;32m   1322\u001B[0m \u001B[43m    \u001B[49m\u001B[43manswer\u001B[49m\u001B[43m,\u001B[49m\u001B[43m \u001B[49m\u001B[38;5;28;43mself\u001B[39;49m\u001B[38;5;241;43m.\u001B[39;49m\u001B[43mgateway_client\u001B[49m\u001B[43m,\u001B[49m\u001B[43m \u001B[49m\u001B[38;5;28;43mself\u001B[39;49m\u001B[38;5;241;43m.\u001B[39;49m\u001B[43mtarget_id\u001B[49m\u001B[43m,\u001B[49m\u001B[43m \u001B[49m\u001B[38;5;28;43mself\u001B[39;49m\u001B[38;5;241;43m.\u001B[39;49m\u001B[43mname\u001B[49m\u001B[43m)\u001B[49m\n",
       "\u001B[1;32m   1324\u001B[0m \u001B[38;5;28;01mfor\u001B[39;00m temp_arg \u001B[38;5;129;01min\u001B[39;00m temp_args:\n",
       "\u001B[1;32m   1325\u001B[0m     temp_arg\u001B[38;5;241m.\u001B[39m_detach()\n",
       "\n",
       "File \u001B[0;32m/databricks/spark/python/pyspark/errors/exceptions.py:228\u001B[0m, in \u001B[0;36mcapture_sql_exception.<locals>.deco\u001B[0;34m(*a, **kw)\u001B[0m\n",
       "\u001B[1;32m    226\u001B[0m \u001B[38;5;28;01mdef\u001B[39;00m \u001B[38;5;21mdeco\u001B[39m(\u001B[38;5;241m*\u001B[39ma: Any, \u001B[38;5;241m*\u001B[39m\u001B[38;5;241m*\u001B[39mkw: Any) \u001B[38;5;241m-\u001B[39m\u001B[38;5;241m>\u001B[39m Any:\n",
       "\u001B[1;32m    227\u001B[0m     \u001B[38;5;28;01mtry\u001B[39;00m:\n",
       "\u001B[0;32m--> 228\u001B[0m         \u001B[38;5;28;01mreturn\u001B[39;00m \u001B[43mf\u001B[49m\u001B[43m(\u001B[49m\u001B[38;5;241;43m*\u001B[39;49m\u001B[43ma\u001B[49m\u001B[43m,\u001B[49m\u001B[43m \u001B[49m\u001B[38;5;241;43m*\u001B[39;49m\u001B[38;5;241;43m*\u001B[39;49m\u001B[43mkw\u001B[49m\u001B[43m)\u001B[49m\n",
       "\u001B[1;32m    229\u001B[0m     \u001B[38;5;28;01mexcept\u001B[39;00m Py4JJavaError \u001B[38;5;28;01mas\u001B[39;00m e:\n",
       "\u001B[1;32m    230\u001B[0m         converted \u001B[38;5;241m=\u001B[39m convert_exception(e\u001B[38;5;241m.\u001B[39mjava_exception)\n",
       "\n",
       "File \u001B[0;32m/databricks/spark/python/lib/py4j-0.10.9.5-src.zip/py4j/protocol.py:326\u001B[0m, in \u001B[0;36mget_return_value\u001B[0;34m(answer, gateway_client, target_id, name)\u001B[0m\n",
       "\u001B[1;32m    324\u001B[0m value \u001B[38;5;241m=\u001B[39m OUTPUT_CONVERTER[\u001B[38;5;28mtype\u001B[39m](answer[\u001B[38;5;241m2\u001B[39m:], gateway_client)\n",
       "\u001B[1;32m    325\u001B[0m \u001B[38;5;28;01mif\u001B[39;00m answer[\u001B[38;5;241m1\u001B[39m] \u001B[38;5;241m==\u001B[39m REFERENCE_TYPE:\n",
       "\u001B[0;32m--> 326\u001B[0m     \u001B[38;5;28;01mraise\u001B[39;00m Py4JJavaError(\n",
       "\u001B[1;32m    327\u001B[0m         \u001B[38;5;124m\"\u001B[39m\u001B[38;5;124mAn error occurred while calling \u001B[39m\u001B[38;5;132;01m{0}\u001B[39;00m\u001B[38;5;132;01m{1}\u001B[39;00m\u001B[38;5;132;01m{2}\u001B[39;00m\u001B[38;5;124m.\u001B[39m\u001B[38;5;130;01m\\n\u001B[39;00m\u001B[38;5;124m\"\u001B[39m\u001B[38;5;241m.\u001B[39m\n",
       "\u001B[1;32m    328\u001B[0m         \u001B[38;5;28mformat\u001B[39m(target_id, \u001B[38;5;124m\"\u001B[39m\u001B[38;5;124m.\u001B[39m\u001B[38;5;124m\"\u001B[39m, name), value)\n",
       "\u001B[1;32m    329\u001B[0m \u001B[38;5;28;01melse\u001B[39;00m:\n",
       "\u001B[1;32m    330\u001B[0m     \u001B[38;5;28;01mraise\u001B[39;00m Py4JError(\n",
       "\u001B[1;32m    331\u001B[0m         \u001B[38;5;124m\"\u001B[39m\u001B[38;5;124mAn error occurred while calling \u001B[39m\u001B[38;5;132;01m{0}\u001B[39;00m\u001B[38;5;132;01m{1}\u001B[39;00m\u001B[38;5;132;01m{2}\u001B[39;00m\u001B[38;5;124m. Trace:\u001B[39m\u001B[38;5;130;01m\\n\u001B[39;00m\u001B[38;5;132;01m{3}\u001B[39;00m\u001B[38;5;130;01m\\n\u001B[39;00m\u001B[38;5;124m\"\u001B[39m\u001B[38;5;241m.\u001B[39m\n",
       "\u001B[1;32m    332\u001B[0m         \u001B[38;5;28mformat\u001B[39m(target_id, \u001B[38;5;124m\"\u001B[39m\u001B[38;5;124m.\u001B[39m\u001B[38;5;124m\"\u001B[39m, name, value))\n",
       "\n",
       "\u001B[0;31mPy4JJavaError\u001B[0m: An error occurred while calling z:org.apache.spark.api.python.PythonRDD.collectAndServe.\n",
       ": org.apache.spark.SparkException: Job aborted due to stage failure: Task 0 in stage 50.0 failed 1 times, most recent failure: Lost task 0.0 in stage 50.0 (TID 128) (ip-10-172-191-102.us-west-2.compute.internal executor driver): org.apache.spark.api.python.PythonException: 'NameError: name 'avg' is not defined', from <command-1464622075133874>, line 1. Full traceback below:\n",
       "Traceback (most recent call last):\n",
       "  File \"/databricks/spark/python/pyspark/worker.py\", line 1037, in main\n",
       "    process()\n",
       "  File \"/databricks/spark/python/pyspark/worker.py\", line 1027, in process\n",
       "    out_iter = func(split_index, iterator)\n",
       "  File \"/databricks/spark/python/pyspark/rdd.py\", line 5429, in pipeline_func\n",
       "    return func(split, prev_func(split, iterator))\n",
       "  File \"/databricks/spark/python/pyspark/rdd.py\", line 5429, in pipeline_func\n",
       "    return func(split, prev_func(split, iterator))\n",
       "  File \"/databricks/spark/python/pyspark/rdd.py\", line 829, in func\n",
       "    return f(iterator)\n",
       "  File \"/databricks/spark/python/pyspark/rdd.py\", line 3990, in combineLocally\n",
       "    merger.mergeValues(iterator)\n",
       "  File \"/databricks/spark/python/pyspark/shuffle.py\", line 255, in mergeValues\n",
       "    d[k] = comb(d[k], v) if k in d else creator(v)\n",
       "  File \"/databricks/spark/python/pyspark/util.py\", line 84, in wrapper\n",
       "    return f(*args, **kwargs)\n",
       "  File \"<command-1464622075133874>\", line 1, in <lambda>\n",
       "NameError: name 'avg' is not defined\n",
       "\n",
       "\tat org.apache.spark.api.python.BasePythonRunner$ReaderIterator.handlePythonException(PythonRunner.scala:685)\n",
       "\tat org.apache.spark.api.python.PythonRunner$$anon$3.read(PythonRunner.scala:894)\n",
       "\tat org.apache.spark.api.python.PythonRunner$$anon$3.read(PythonRunner.scala:876)\n",
       "\tat org.apache.spark.api.python.BasePythonRunner$ReaderIterator.hasNext(PythonRunner.scala:638)\n",
       "\tat org.apache.spark.InterruptibleIterator.hasNext(InterruptibleIterator.scala:37)\n",
       "\tat scala.collection.Iterator$GroupedIterator.fill(Iterator.scala:1211)\n",
       "\tat scala.collection.Iterator$GroupedIterator.hasNext(Iterator.scala:1217)\n",
       "\tat scala.collection.Iterator$$anon$10.hasNext(Iterator.scala:460)\n",
       "\tat org.apache.spark.shuffle.sort.BypassMergeSortShuffleWriter.write(BypassMergeSortShuffleWriter.java:151)\n",
       "\tat org.apache.spark.shuffle.ShuffleWriteProcessor.write(ShuffleWriteProcessor.scala:59)\n",
       "\tat org.apache.spark.scheduler.ShuffleMapTask.$anonfun$runTask$3(ShuffleMapTask.scala:81)\n",
       "\tat com.databricks.spark.util.ExecutorFrameProfiler$.record(ExecutorFrameProfiler.scala:110)\n",
       "\tat org.apache.spark.scheduler.ShuffleMapTask.$anonfun$runTask$1(ShuffleMapTask.scala:81)\n",
       "\tat com.databricks.spark.util.ExecutorFrameProfiler$.record(ExecutorFrameProfiler.scala:110)\n",
       "\tat org.apache.spark.scheduler.ShuffleMapTask.runTask(ShuffleMapTask.scala:53)\n",
       "\tat org.apache.spark.scheduler.ShuffleMapTask.runTask(ShuffleMapTask.scala:41)\n",
       "\tat org.apache.spark.scheduler.Task.doRunTask(Task.scala:179)\n",
       "\tat org.apache.spark.scheduler.Task.$anonfun$run$5(Task.scala:142)\n",
       "\tat com.databricks.unity.EmptyHandle$.runWithAndClose(UCSHandle.scala:125)\n",
       "\tat org.apache.spark.scheduler.Task.$anonfun$run$1(Task.scala:142)\n",
       "\tat com.databricks.spark.util.ExecutorFrameProfiler$.record(ExecutorFrameProfiler.scala:110)\n",
       "\tat org.apache.spark.scheduler.Task.run(Task.scala:97)\n",
       "\tat org.apache.spark.executor.Executor$TaskRunner.$anonfun$run$13(Executor.scala:904)\n",
       "\tat org.apache.spark.util.Utils$.tryWithSafeFinally(Utils.scala:1713)\n",
       "\tat org.apache.spark.executor.Executor$TaskRunner.$anonfun$run$4(Executor.scala:907)\n",
       "\tat scala.runtime.java8.JFunction0$mcV$sp.apply(JFunction0$mcV$sp.java:23)\n",
       "\tat com.databricks.spark.util.ExecutorFrameProfiler$.record(ExecutorFrameProfiler.scala:110)\n",
       "\tat org.apache.spark.executor.Executor$TaskRunner.run(Executor.scala:761)\n",
       "\tat java.util.concurrent.ThreadPoolExecutor.runWorker(ThreadPoolExecutor.java:1149)\n",
       "\tat java.util.concurrent.ThreadPoolExecutor$Worker.run(ThreadPoolExecutor.java:624)\n",
       "\tat java.lang.Thread.run(Thread.java:750)\n",
       "\n",
       "Driver stacktrace:\n",
       "\tat org.apache.spark.scheduler.DAGScheduler.failJobAndIndependentStages(DAGScheduler.scala:3386)\n",
       "\tat org.apache.spark.scheduler.DAGScheduler.$anonfun$abortStage$2(DAGScheduler.scala:3318)\n",
       "\tat org.apache.spark.scheduler.DAGScheduler.$anonfun$abortStage$2$adapted(DAGScheduler.scala:3309)\n",
       "\tat scala.collection.mutable.ResizableArray.foreach(ResizableArray.scala:62)\n",
       "\tat scala.collection.mutable.ResizableArray.foreach$(ResizableArray.scala:55)\n",
       "\tat scala.collection.mutable.ArrayBuffer.foreach(ArrayBuffer.scala:49)\n",
       "\tat org.apache.spark.scheduler.DAGScheduler.abortStage(DAGScheduler.scala:3309)\n",
       "\tat org.apache.spark.scheduler.DAGScheduler.$anonfun$handleTaskSetFailed$1(DAGScheduler.scala:1433)\n",
       "\tat org.apache.spark.scheduler.DAGScheduler.$anonfun$handleTaskSetFailed$1$adapted(DAGScheduler.scala:1433)\n",
       "\tat scala.Option.foreach(Option.scala:407)\n",
       "\tat org.apache.spark.scheduler.DAGScheduler.handleTaskSetFailed(DAGScheduler.scala:1433)\n",
       "\tat org.apache.spark.scheduler.DAGSchedulerEventProcessLoop.doOnReceive(DAGScheduler.scala:3598)\n",
       "\tat org.apache.spark.scheduler.DAGSchedulerEventProcessLoop.onReceive(DAGScheduler.scala:3536)\n",
       "\tat org.apache.spark.scheduler.DAGSchedulerEventProcessLoop.onReceive(DAGScheduler.scala:3524)\n",
       "\tat org.apache.spark.util.EventLoop$$anon$1.run(EventLoop.scala:51)\n",
       "\tat org.apache.spark.scheduler.DAGScheduler.$anonfun$runJob$1(DAGScheduler.scala:1182)\n",
       "\tat scala.runtime.java8.JFunction0$mcV$sp.apply(JFunction0$mcV$sp.java:23)\n",
       "\tat com.databricks.spark.util.FrameProfiler$.record(FrameProfiler.scala:80)\n",
       "\tat org.apache.spark.scheduler.DAGScheduler.runJob(DAGScheduler.scala:1170)\n",
       "\tat org.apache.spark.SparkContext.runJobInternal(SparkContext.scala:2750)\n",
       "\tat org.apache.spark.rdd.RDD.$anonfun$collect$1(RDD.scala:1070)\n",
       "\tat org.apache.spark.rdd.RDDOperationScope$.withScope(RDDOperationScope.scala:165)\n",
       "\tat org.apache.spark.rdd.RDDOperationScope$.withScope(RDDOperationScope.scala:125)\n",
       "\tat org.apache.spark.rdd.RDDOperationScope$.withScope(RDDOperationScope.scala:112)\n",
       "\tat org.apache.spark.rdd.RDD.withScope(RDD.scala:445)\n",
       "\tat org.apache.spark.rdd.RDD.collect(RDD.scala:1068)\n",
       "\tat org.apache.spark.api.python.PythonRDD$.collectAndServe(PythonRDD.scala:282)\n",
       "\tat org.apache.spark.api.python.PythonRDD.collectAndServe(PythonRDD.scala)\n",
       "\tat sun.reflect.GeneratedMethodAccessor697.invoke(Unknown Source)\n",
       "\tat sun.reflect.DelegatingMethodAccessorImpl.invoke(DelegatingMethodAccessorImpl.java:43)\n",
       "\tat java.lang.reflect.Method.invoke(Method.java:498)\n",
       "\tat py4j.reflection.MethodInvoker.invoke(MethodInvoker.java:244)\n",
       "\tat py4j.reflection.ReflectionEngine.invoke(ReflectionEngine.java:380)\n",
       "\tat py4j.Gateway.invoke(Gateway.java:306)\n",
       "\tat py4j.commands.AbstractCommand.invokeMethod(AbstractCommand.java:132)\n",
       "\tat py4j.commands.CallCommand.execute(CallCommand.java:79)\n",
       "\tat py4j.ClientServerConnection.waitForCommands(ClientServerConnection.java:195)\n",
       "\tat py4j.ClientServerConnection.run(ClientServerConnection.java:115)\n",
       "\tat java.lang.Thread.run(Thread.java:750)\n",
       "Caused by: org.apache.spark.api.python.PythonException: 'NameError: name 'avg' is not defined', from <command-1464622075133874>, line 1. Full traceback below:\n",
       "Traceback (most recent call last):\n",
       "  File \"/databricks/spark/python/pyspark/worker.py\", line 1037, in main\n",
       "    process()\n",
       "  File \"/databricks/spark/python/pyspark/worker.py\", line 1027, in process\n",
       "    out_iter = func(split_index, iterator)\n",
       "  File \"/databricks/spark/python/pyspark/rdd.py\", line 5429, in pipeline_func\n",
       "    return func(split, prev_func(split, iterator))\n",
       "  File \"/databricks/spark/python/pyspark/rdd.py\", line 5429, in pipeline_func\n",
       "    return func(split, prev_func(split, iterator))\n",
       "  File \"/databricks/spark/python/pyspark/rdd.py\", line 829, in func\n",
       "    return f(iterator)\n",
       "  File \"/databricks/spark/python/pyspark/rdd.py\", line 3990, in combineLocally\n",
       "    merger.mergeValues(iterator)\n",
       "  File \"/databricks/spark/python/pyspark/shuffle.py\", line 255, in mergeValues\n",
       "    d[k] = comb(d[k], v) if k in d else creator(v)\n",
       "  File \"/databricks/spark/python/pyspark/util.py\", line 84, in wrapper\n",
       "    return f(*args, **kwargs)\n",
       "  File \"<command-1464622075133874>\", line 1, in <lambda>\n",
       "NameError: name 'avg' is not defined\n",
       "\n",
       "\tat org.apache.spark.api.python.BasePythonRunner$ReaderIterator.handlePythonException(PythonRunner.scala:685)\n",
       "\tat org.apache.spark.api.python.PythonRunner$$anon$3.read(PythonRunner.scala:894)\n",
       "\tat org.apache.spark.api.python.PythonRunner$$anon$3.read(PythonRunner.scala:876)\n",
       "\tat org.apache.spark.api.python.BasePythonRunner$ReaderIterator.hasNext(PythonRunner.scala:638)\n",
       "\tat org.apache.spark.InterruptibleIterator.hasNext(InterruptibleIterator.scala:37)\n",
       "\tat scala.collection.Iterator$GroupedIterator.fill(Iterator.scala:1211)\n",
       "\tat scala.collection.Iterator$GroupedIterator.hasNext(Iterator.scala:1217)\n",
       "\tat scala.collection.Iterator$$anon$10.hasNext(Iterator.scala:460)\n",
       "\tat org.apache.spark.shuffle.sort.BypassMergeSortShuffleWriter.write(BypassMergeSortShuffleWriter.java:151)\n",
       "\tat org.apache.spark.shuffle.ShuffleWriteProcessor.write(ShuffleWriteProcessor.scala:59)\n",
       "\tat org.apache.spark.scheduler.ShuffleMapTask.$anonfun$runTask$3(ShuffleMapTask.scala:81)\n",
       "\tat com.databricks.spark.util.ExecutorFrameProfiler$.record(ExecutorFrameProfiler.scala:110)\n",
       "\tat org.apache.spark.scheduler.ShuffleMapTask.$anonfun$runTask$1(ShuffleMapTask.scala:81)\n",
       "\tat com.databricks.spark.util.ExecutorFrameProfiler$.record(ExecutorFrameProfiler.scala:110)\n",
       "\tat org.apache.spark.scheduler.ShuffleMapTask.runTask(ShuffleMapTask.scala:53)\n",
       "\tat org.apache.spark.scheduler.ShuffleMapTask.runTask(ShuffleMapTask.scala:41)\n",
       "\tat org.apache.spark.scheduler.Task.doRunTask(Task.scala:179)\n",
       "\tat org.apache.spark.scheduler.Task.$anonfun$run$5(Task.scala:142)\n",
       "\tat com.databricks.unity.EmptyHandle$.runWithAndClose(UCSHandle.scala:125)\n",
       "\tat org.apache.spark.scheduler.Task.$anonfun$run$1(Task.scala:142)\n",
       "\tat com.databricks.spark.util.ExecutorFrameProfiler$.record(ExecutorFrameProfiler.scala:110)\n",
       "\tat org.apache.spark.scheduler.Task.run(Task.scala:97)\n",
       "\tat org.apache.spark.executor.Executor$TaskRunner.$anonfun$run$13(Executor.scala:904)\n",
       "\tat org.apache.spark.util.Utils$.tryWithSafeFinally(Utils.scala:1713)\n",
       "\tat org.apache.spark.executor.Executor$TaskRunner.$anonfun$run$4(Executor.scala:907)\n",
       "\tat scala.runtime.java8.JFunction0$mcV$sp.apply(JFunction0$mcV$sp.java:23)\n",
       "\tat com.databricks.spark.util.ExecutorFrameProfiler$.record(ExecutorFrameProfiler.scala:110)\n",
       "\tat org.apache.spark.executor.Executor$TaskRunner.run(Executor.scala:761)\n",
       "\tat java.util.concurrent.ThreadPoolExecutor.runWorker(ThreadPoolExecutor.java:1149)\n",
       "\tat java.util.concurrent.ThreadPoolExecutor$Worker.run(ThreadPoolExecutor.java:624)\n",
       "\t... 1 more\n"
      ]
     },
     "metadata": {
      "application/vnd.databricks.v1+output": {
       "arguments": {},
       "data": "\u001B[0;31m---------------------------------------------------------------------------\u001B[0m\n\u001B[0;31mPy4JJavaError\u001B[0m                             Traceback (most recent call last)\nFile \u001B[0;32m<command-1464622075133874>:1\u001B[0m\n\u001B[0;32m----> 1\u001B[0m new\u001B[38;5;241m=\u001B[39m\u001B[43mnew1\u001B[49m\u001B[38;5;241;43m.\u001B[39;49m\u001B[43mreduceByKey\u001B[49m\u001B[43m(\u001B[49m\u001B[38;5;28;43;01mlambda\u001B[39;49;00m\u001B[43m \u001B[49m\u001B[43mx\u001B[49m\u001B[43m,\u001B[49m\u001B[43my\u001B[49m\u001B[43m:\u001B[49m\u001B[43maverage\u001B[49m\u001B[43m(\u001B[49m\u001B[43mx\u001B[49m\u001B[43m,\u001B[49m\u001B[43my\u001B[49m\u001B[43m)\u001B[49m\u001B[43m \u001B[49m\u001B[43m)\u001B[49m\u001B[38;5;241;43m.\u001B[39;49m\u001B[43mcollect\u001B[49m\u001B[43m(\u001B[49m\u001B[43m)\u001B[49m\n\nFile \u001B[0;32m/databricks/spark/python/pyspark/instrumentation_utils.py:48\u001B[0m, in \u001B[0;36m_wrap_function.<locals>.wrapper\u001B[0;34m(*args, **kwargs)\u001B[0m\n\u001B[1;32m     46\u001B[0m start \u001B[38;5;241m=\u001B[39m time\u001B[38;5;241m.\u001B[39mperf_counter()\n\u001B[1;32m     47\u001B[0m \u001B[38;5;28;01mtry\u001B[39;00m:\n\u001B[0;32m---> 48\u001B[0m     res \u001B[38;5;241m=\u001B[39m \u001B[43mfunc\u001B[49m\u001B[43m(\u001B[49m\u001B[38;5;241;43m*\u001B[39;49m\u001B[43margs\u001B[49m\u001B[43m,\u001B[49m\u001B[43m \u001B[49m\u001B[38;5;241;43m*\u001B[39;49m\u001B[38;5;241;43m*\u001B[39;49m\u001B[43mkwargs\u001B[49m\u001B[43m)\u001B[49m\n\u001B[1;32m     49\u001B[0m     logger\u001B[38;5;241m.\u001B[39mlog_success(\n\u001B[1;32m     50\u001B[0m         module_name, class_name, function_name, time\u001B[38;5;241m.\u001B[39mperf_counter() \u001B[38;5;241m-\u001B[39m start, signature\n\u001B[1;32m     51\u001B[0m     )\n\u001B[1;32m     52\u001B[0m     \u001B[38;5;28;01mreturn\u001B[39;00m res\n\nFile \u001B[0;32m/databricks/spark/python/pyspark/rdd.py:1825\u001B[0m, in \u001B[0;36mRDD.collect\u001B[0;34m(self)\u001B[0m\n\u001B[1;32m   1823\u001B[0m \u001B[38;5;28;01mwith\u001B[39;00m SCCallSiteSync(\u001B[38;5;28mself\u001B[39m\u001B[38;5;241m.\u001B[39mcontext):\n\u001B[1;32m   1824\u001B[0m     \u001B[38;5;28;01massert\u001B[39;00m \u001B[38;5;28mself\u001B[39m\u001B[38;5;241m.\u001B[39mctx\u001B[38;5;241m.\u001B[39m_jvm \u001B[38;5;129;01mis\u001B[39;00m \u001B[38;5;129;01mnot\u001B[39;00m \u001B[38;5;28;01mNone\u001B[39;00m\n\u001B[0;32m-> 1825\u001B[0m     sock_info \u001B[38;5;241m=\u001B[39m \u001B[38;5;28;43mself\u001B[39;49m\u001B[38;5;241;43m.\u001B[39;49m\u001B[43mctx\u001B[49m\u001B[38;5;241;43m.\u001B[39;49m\u001B[43m_jvm\u001B[49m\u001B[38;5;241;43m.\u001B[39;49m\u001B[43mPythonRDD\u001B[49m\u001B[38;5;241;43m.\u001B[39;49m\u001B[43mcollectAndServe\u001B[49m\u001B[43m(\u001B[49m\u001B[38;5;28;43mself\u001B[39;49m\u001B[38;5;241;43m.\u001B[39;49m\u001B[43m_jrdd\u001B[49m\u001B[38;5;241;43m.\u001B[39;49m\u001B[43mrdd\u001B[49m\u001B[43m(\u001B[49m\u001B[43m)\u001B[49m\u001B[43m)\u001B[49m\n\u001B[1;32m   1826\u001B[0m \u001B[38;5;28;01mreturn\u001B[39;00m \u001B[38;5;28mlist\u001B[39m(_load_from_socket(sock_info, \u001B[38;5;28mself\u001B[39m\u001B[38;5;241m.\u001B[39m_jrdd_deserializer))\n\nFile \u001B[0;32m/databricks/spark/python/lib/py4j-0.10.9.5-src.zip/py4j/java_gateway.py:1321\u001B[0m, in \u001B[0;36mJavaMember.__call__\u001B[0;34m(self, *args)\u001B[0m\n\u001B[1;32m   1315\u001B[0m command \u001B[38;5;241m=\u001B[39m proto\u001B[38;5;241m.\u001B[39mCALL_COMMAND_NAME \u001B[38;5;241m+\u001B[39m\\\n\u001B[1;32m   1316\u001B[0m     \u001B[38;5;28mself\u001B[39m\u001B[38;5;241m.\u001B[39mcommand_header \u001B[38;5;241m+\u001B[39m\\\n\u001B[1;32m   1317\u001B[0m     args_command \u001B[38;5;241m+\u001B[39m\\\n\u001B[1;32m   1318\u001B[0m     proto\u001B[38;5;241m.\u001B[39mEND_COMMAND_PART\n\u001B[1;32m   1320\u001B[0m answer \u001B[38;5;241m=\u001B[39m \u001B[38;5;28mself\u001B[39m\u001B[38;5;241m.\u001B[39mgateway_client\u001B[38;5;241m.\u001B[39msend_command(command)\n\u001B[0;32m-> 1321\u001B[0m return_value \u001B[38;5;241m=\u001B[39m \u001B[43mget_return_value\u001B[49m\u001B[43m(\u001B[49m\n\u001B[1;32m   1322\u001B[0m \u001B[43m    \u001B[49m\u001B[43manswer\u001B[49m\u001B[43m,\u001B[49m\u001B[43m \u001B[49m\u001B[38;5;28;43mself\u001B[39;49m\u001B[38;5;241;43m.\u001B[39;49m\u001B[43mgateway_client\u001B[49m\u001B[43m,\u001B[49m\u001B[43m \u001B[49m\u001B[38;5;28;43mself\u001B[39;49m\u001B[38;5;241;43m.\u001B[39;49m\u001B[43mtarget_id\u001B[49m\u001B[43m,\u001B[49m\u001B[43m \u001B[49m\u001B[38;5;28;43mself\u001B[39;49m\u001B[38;5;241;43m.\u001B[39;49m\u001B[43mname\u001B[49m\u001B[43m)\u001B[49m\n\u001B[1;32m   1324\u001B[0m \u001B[38;5;28;01mfor\u001B[39;00m temp_arg \u001B[38;5;129;01min\u001B[39;00m temp_args:\n\u001B[1;32m   1325\u001B[0m     temp_arg\u001B[38;5;241m.\u001B[39m_detach()\n\nFile \u001B[0;32m/databricks/spark/python/pyspark/errors/exceptions.py:228\u001B[0m, in \u001B[0;36mcapture_sql_exception.<locals>.deco\u001B[0;34m(*a, **kw)\u001B[0m\n\u001B[1;32m    226\u001B[0m \u001B[38;5;28;01mdef\u001B[39;00m \u001B[38;5;21mdeco\u001B[39m(\u001B[38;5;241m*\u001B[39ma: Any, \u001B[38;5;241m*\u001B[39m\u001B[38;5;241m*\u001B[39mkw: Any) \u001B[38;5;241m-\u001B[39m\u001B[38;5;241m>\u001B[39m Any:\n\u001B[1;32m    227\u001B[0m     \u001B[38;5;28;01mtry\u001B[39;00m:\n\u001B[0;32m--> 228\u001B[0m         \u001B[38;5;28;01mreturn\u001B[39;00m \u001B[43mf\u001B[49m\u001B[43m(\u001B[49m\u001B[38;5;241;43m*\u001B[39;49m\u001B[43ma\u001B[49m\u001B[43m,\u001B[49m\u001B[43m \u001B[49m\u001B[38;5;241;43m*\u001B[39;49m\u001B[38;5;241;43m*\u001B[39;49m\u001B[43mkw\u001B[49m\u001B[43m)\u001B[49m\n\u001B[1;32m    229\u001B[0m     \u001B[38;5;28;01mexcept\u001B[39;00m Py4JJavaError \u001B[38;5;28;01mas\u001B[39;00m e:\n\u001B[1;32m    230\u001B[0m         converted \u001B[38;5;241m=\u001B[39m convert_exception(e\u001B[38;5;241m.\u001B[39mjava_exception)\n\nFile \u001B[0;32m/databricks/spark/python/lib/py4j-0.10.9.5-src.zip/py4j/protocol.py:326\u001B[0m, in \u001B[0;36mget_return_value\u001B[0;34m(answer, gateway_client, target_id, name)\u001B[0m\n\u001B[1;32m    324\u001B[0m value \u001B[38;5;241m=\u001B[39m OUTPUT_CONVERTER[\u001B[38;5;28mtype\u001B[39m](answer[\u001B[38;5;241m2\u001B[39m:], gateway_client)\n\u001B[1;32m    325\u001B[0m \u001B[38;5;28;01mif\u001B[39;00m answer[\u001B[38;5;241m1\u001B[39m] \u001B[38;5;241m==\u001B[39m REFERENCE_TYPE:\n\u001B[0;32m--> 326\u001B[0m     \u001B[38;5;28;01mraise\u001B[39;00m Py4JJavaError(\n\u001B[1;32m    327\u001B[0m         \u001B[38;5;124m\"\u001B[39m\u001B[38;5;124mAn error occurred while calling \u001B[39m\u001B[38;5;132;01m{0}\u001B[39;00m\u001B[38;5;132;01m{1}\u001B[39;00m\u001B[38;5;132;01m{2}\u001B[39;00m\u001B[38;5;124m.\u001B[39m\u001B[38;5;130;01m\\n\u001B[39;00m\u001B[38;5;124m\"\u001B[39m\u001B[38;5;241m.\u001B[39m\n\u001B[1;32m    328\u001B[0m         \u001B[38;5;28mformat\u001B[39m(target_id, \u001B[38;5;124m\"\u001B[39m\u001B[38;5;124m.\u001B[39m\u001B[38;5;124m\"\u001B[39m, name), value)\n\u001B[1;32m    329\u001B[0m \u001B[38;5;28;01melse\u001B[39;00m:\n\u001B[1;32m    330\u001B[0m     \u001B[38;5;28;01mraise\u001B[39;00m Py4JError(\n\u001B[1;32m    331\u001B[0m         \u001B[38;5;124m\"\u001B[39m\u001B[38;5;124mAn error occurred while calling \u001B[39m\u001B[38;5;132;01m{0}\u001B[39;00m\u001B[38;5;132;01m{1}\u001B[39;00m\u001B[38;5;132;01m{2}\u001B[39;00m\u001B[38;5;124m. Trace:\u001B[39m\u001B[38;5;130;01m\\n\u001B[39;00m\u001B[38;5;132;01m{3}\u001B[39;00m\u001B[38;5;130;01m\\n\u001B[39;00m\u001B[38;5;124m\"\u001B[39m\u001B[38;5;241m.\u001B[39m\n\u001B[1;32m    332\u001B[0m         \u001B[38;5;28mformat\u001B[39m(target_id, \u001B[38;5;124m\"\u001B[39m\u001B[38;5;124m.\u001B[39m\u001B[38;5;124m\"\u001B[39m, name, value))\n\n\u001B[0;31mPy4JJavaError\u001B[0m: An error occurred while calling z:org.apache.spark.api.python.PythonRDD.collectAndServe.\n: org.apache.spark.SparkException: Job aborted due to stage failure: Task 0 in stage 50.0 failed 1 times, most recent failure: Lost task 0.0 in stage 50.0 (TID 128) (ip-10-172-191-102.us-west-2.compute.internal executor driver): org.apache.spark.api.python.PythonException: 'NameError: name 'avg' is not defined', from <command-1464622075133874>, line 1. Full traceback below:\nTraceback (most recent call last):\n  File \"/databricks/spark/python/pyspark/worker.py\", line 1037, in main\n    process()\n  File \"/databricks/spark/python/pyspark/worker.py\", line 1027, in process\n    out_iter = func(split_index, iterator)\n  File \"/databricks/spark/python/pyspark/rdd.py\", line 5429, in pipeline_func\n    return func(split, prev_func(split, iterator))\n  File \"/databricks/spark/python/pyspark/rdd.py\", line 5429, in pipeline_func\n    return func(split, prev_func(split, iterator))\n  File \"/databricks/spark/python/pyspark/rdd.py\", line 829, in func\n    return f(iterator)\n  File \"/databricks/spark/python/pyspark/rdd.py\", line 3990, in combineLocally\n    merger.mergeValues(iterator)\n  File \"/databricks/spark/python/pyspark/shuffle.py\", line 255, in mergeValues\n    d[k] = comb(d[k], v) if k in d else creator(v)\n  File \"/databricks/spark/python/pyspark/util.py\", line 84, in wrapper\n    return f(*args, **kwargs)\n  File \"<command-1464622075133874>\", line 1, in <lambda>\nNameError: name 'avg' is not defined\n\n\tat org.apache.spark.api.python.BasePythonRunner$ReaderIterator.handlePythonException(PythonRunner.scala:685)\n\tat org.apache.spark.api.python.PythonRunner$$anon$3.read(PythonRunner.scala:894)\n\tat org.apache.spark.api.python.PythonRunner$$anon$3.read(PythonRunner.scala:876)\n\tat org.apache.spark.api.python.BasePythonRunner$ReaderIterator.hasNext(PythonRunner.scala:638)\n\tat org.apache.spark.InterruptibleIterator.hasNext(InterruptibleIterator.scala:37)\n\tat scala.collection.Iterator$GroupedIterator.fill(Iterator.scala:1211)\n\tat scala.collection.Iterator$GroupedIterator.hasNext(Iterator.scala:1217)\n\tat scala.collection.Iterator$$anon$10.hasNext(Iterator.scala:460)\n\tat org.apache.spark.shuffle.sort.BypassMergeSortShuffleWriter.write(BypassMergeSortShuffleWriter.java:151)\n\tat org.apache.spark.shuffle.ShuffleWriteProcessor.write(ShuffleWriteProcessor.scala:59)\n\tat org.apache.spark.scheduler.ShuffleMapTask.$anonfun$runTask$3(ShuffleMapTask.scala:81)\n\tat com.databricks.spark.util.ExecutorFrameProfiler$.record(ExecutorFrameProfiler.scala:110)\n\tat org.apache.spark.scheduler.ShuffleMapTask.$anonfun$runTask$1(ShuffleMapTask.scala:81)\n\tat com.databricks.spark.util.ExecutorFrameProfiler$.record(ExecutorFrameProfiler.scala:110)\n\tat org.apache.spark.scheduler.ShuffleMapTask.runTask(ShuffleMapTask.scala:53)\n\tat org.apache.spark.scheduler.ShuffleMapTask.runTask(ShuffleMapTask.scala:41)\n\tat org.apache.spark.scheduler.Task.doRunTask(Task.scala:179)\n\tat org.apache.spark.scheduler.Task.$anonfun$run$5(Task.scala:142)\n\tat com.databricks.unity.EmptyHandle$.runWithAndClose(UCSHandle.scala:125)\n\tat org.apache.spark.scheduler.Task.$anonfun$run$1(Task.scala:142)\n\tat com.databricks.spark.util.ExecutorFrameProfiler$.record(ExecutorFrameProfiler.scala:110)\n\tat org.apache.spark.scheduler.Task.run(Task.scala:97)\n\tat org.apache.spark.executor.Executor$TaskRunner.$anonfun$run$13(Executor.scala:904)\n\tat org.apache.spark.util.Utils$.tryWithSafeFinally(Utils.scala:1713)\n\tat org.apache.spark.executor.Executor$TaskRunner.$anonfun$run$4(Executor.scala:907)\n\tat scala.runtime.java8.JFunction0$mcV$sp.apply(JFunction0$mcV$sp.java:23)\n\tat com.databricks.spark.util.ExecutorFrameProfiler$.record(ExecutorFrameProfiler.scala:110)\n\tat org.apache.spark.executor.Executor$TaskRunner.run(Executor.scala:761)\n\tat java.util.concurrent.ThreadPoolExecutor.runWorker(ThreadPoolExecutor.java:1149)\n\tat java.util.concurrent.ThreadPoolExecutor$Worker.run(ThreadPoolExecutor.java:624)\n\tat java.lang.Thread.run(Thread.java:750)\n\nDriver stacktrace:\n\tat org.apache.spark.scheduler.DAGScheduler.failJobAndIndependentStages(DAGScheduler.scala:3386)\n\tat org.apache.spark.scheduler.DAGScheduler.$anonfun$abortStage$2(DAGScheduler.scala:3318)\n\tat org.apache.spark.scheduler.DAGScheduler.$anonfun$abortStage$2$adapted(DAGScheduler.scala:3309)\n\tat scala.collection.mutable.ResizableArray.foreach(ResizableArray.scala:62)\n\tat scala.collection.mutable.ResizableArray.foreach$(ResizableArray.scala:55)\n\tat scala.collection.mutable.ArrayBuffer.foreach(ArrayBuffer.scala:49)\n\tat org.apache.spark.scheduler.DAGScheduler.abortStage(DAGScheduler.scala:3309)\n\tat org.apache.spark.scheduler.DAGScheduler.$anonfun$handleTaskSetFailed$1(DAGScheduler.scala:1433)\n\tat org.apache.spark.scheduler.DAGScheduler.$anonfun$handleTaskSetFailed$1$adapted(DAGScheduler.scala:1433)\n\tat scala.Option.foreach(Option.scala:407)\n\tat org.apache.spark.scheduler.DAGScheduler.handleTaskSetFailed(DAGScheduler.scala:1433)\n\tat org.apache.spark.scheduler.DAGSchedulerEventProcessLoop.doOnReceive(DAGScheduler.scala:3598)\n\tat org.apache.spark.scheduler.DAGSchedulerEventProcessLoop.onReceive(DAGScheduler.scala:3536)\n\tat org.apache.spark.scheduler.DAGSchedulerEventProcessLoop.onReceive(DAGScheduler.scala:3524)\n\tat org.apache.spark.util.EventLoop$$anon$1.run(EventLoop.scala:51)\n\tat org.apache.spark.scheduler.DAGScheduler.$anonfun$runJob$1(DAGScheduler.scala:1182)\n\tat scala.runtime.java8.JFunction0$mcV$sp.apply(JFunction0$mcV$sp.java:23)\n\tat com.databricks.spark.util.FrameProfiler$.record(FrameProfiler.scala:80)\n\tat org.apache.spark.scheduler.DAGScheduler.runJob(DAGScheduler.scala:1170)\n\tat org.apache.spark.SparkContext.runJobInternal(SparkContext.scala:2750)\n\tat org.apache.spark.rdd.RDD.$anonfun$collect$1(RDD.scala:1070)\n\tat org.apache.spark.rdd.RDDOperationScope$.withScope(RDDOperationScope.scala:165)\n\tat org.apache.spark.rdd.RDDOperationScope$.withScope(RDDOperationScope.scala:125)\n\tat org.apache.spark.rdd.RDDOperationScope$.withScope(RDDOperationScope.scala:112)\n\tat org.apache.spark.rdd.RDD.withScope(RDD.scala:445)\n\tat org.apache.spark.rdd.RDD.collect(RDD.scala:1068)\n\tat org.apache.spark.api.python.PythonRDD$.collectAndServe(PythonRDD.scala:282)\n\tat org.apache.spark.api.python.PythonRDD.collectAndServe(PythonRDD.scala)\n\tat sun.reflect.GeneratedMethodAccessor697.invoke(Unknown Source)\n\tat sun.reflect.DelegatingMethodAccessorImpl.invoke(DelegatingMethodAccessorImpl.java:43)\n\tat java.lang.reflect.Method.invoke(Method.java:498)\n\tat py4j.reflection.MethodInvoker.invoke(MethodInvoker.java:244)\n\tat py4j.reflection.ReflectionEngine.invoke(ReflectionEngine.java:380)\n\tat py4j.Gateway.invoke(Gateway.java:306)\n\tat py4j.commands.AbstractCommand.invokeMethod(AbstractCommand.java:132)\n\tat py4j.commands.CallCommand.execute(CallCommand.java:79)\n\tat py4j.ClientServerConnection.waitForCommands(ClientServerConnection.java:195)\n\tat py4j.ClientServerConnection.run(ClientServerConnection.java:115)\n\tat java.lang.Thread.run(Thread.java:750)\nCaused by: org.apache.spark.api.python.PythonException: 'NameError: name 'avg' is not defined', from <command-1464622075133874>, line 1. Full traceback below:\nTraceback (most recent call last):\n  File \"/databricks/spark/python/pyspark/worker.py\", line 1037, in main\n    process()\n  File \"/databricks/spark/python/pyspark/worker.py\", line 1027, in process\n    out_iter = func(split_index, iterator)\n  File \"/databricks/spark/python/pyspark/rdd.py\", line 5429, in pipeline_func\n    return func(split, prev_func(split, iterator))\n  File \"/databricks/spark/python/pyspark/rdd.py\", line 5429, in pipeline_func\n    return func(split, prev_func(split, iterator))\n  File \"/databricks/spark/python/pyspark/rdd.py\", line 829, in func\n    return f(iterator)\n  File \"/databricks/spark/python/pyspark/rdd.py\", line 3990, in combineLocally\n    merger.mergeValues(iterator)\n  File \"/databricks/spark/python/pyspark/shuffle.py\", line 255, in mergeValues\n    d[k] = comb(d[k], v) if k in d else creator(v)\n  File \"/databricks/spark/python/pyspark/util.py\", line 84, in wrapper\n    return f(*args, **kwargs)\n  File \"<command-1464622075133874>\", line 1, in <lambda>\nNameError: name 'avg' is not defined\n\n\tat org.apache.spark.api.python.BasePythonRunner$ReaderIterator.handlePythonException(PythonRunner.scala:685)\n\tat org.apache.spark.api.python.PythonRunner$$anon$3.read(PythonRunner.scala:894)\n\tat org.apache.spark.api.python.PythonRunner$$anon$3.read(PythonRunner.scala:876)\n\tat org.apache.spark.api.python.BasePythonRunner$ReaderIterator.hasNext(PythonRunner.scala:638)\n\tat org.apache.spark.InterruptibleIterator.hasNext(InterruptibleIterator.scala:37)\n\tat scala.collection.Iterator$GroupedIterator.fill(Iterator.scala:1211)\n\tat scala.collection.Iterator$GroupedIterator.hasNext(Iterator.scala:1217)\n\tat scala.collection.Iterator$$anon$10.hasNext(Iterator.scala:460)\n\tat org.apache.spark.shuffle.sort.BypassMergeSortShuffleWriter.write(BypassMergeSortShuffleWriter.java:151)\n\tat org.apache.spark.shuffle.ShuffleWriteProcessor.write(ShuffleWriteProcessor.scala:59)\n\tat org.apache.spark.scheduler.ShuffleMapTask.$anonfun$runTask$3(ShuffleMapTask.scala:81)\n\tat com.databricks.spark.util.ExecutorFrameProfiler$.record(ExecutorFrameProfiler.scala:110)\n\tat org.apache.spark.scheduler.ShuffleMapTask.$anonfun$runTask$1(ShuffleMapTask.scala:81)\n\tat com.databricks.spark.util.ExecutorFrameProfiler$.record(ExecutorFrameProfiler.scala:110)\n\tat org.apache.spark.scheduler.ShuffleMapTask.runTask(ShuffleMapTask.scala:53)\n\tat org.apache.spark.scheduler.ShuffleMapTask.runTask(ShuffleMapTask.scala:41)\n\tat org.apache.spark.scheduler.Task.doRunTask(Task.scala:179)\n\tat org.apache.spark.scheduler.Task.$anonfun$run$5(Task.scala:142)\n\tat com.databricks.unity.EmptyHandle$.runWithAndClose(UCSHandle.scala:125)\n\tat org.apache.spark.scheduler.Task.$anonfun$run$1(Task.scala:142)\n\tat com.databricks.spark.util.ExecutorFrameProfiler$.record(ExecutorFrameProfiler.scala:110)\n\tat org.apache.spark.scheduler.Task.run(Task.scala:97)\n\tat org.apache.spark.executor.Executor$TaskRunner.$anonfun$run$13(Executor.scala:904)\n\tat org.apache.spark.util.Utils$.tryWithSafeFinally(Utils.scala:1713)\n\tat org.apache.spark.executor.Executor$TaskRunner.$anonfun$run$4(Executor.scala:907)\n\tat scala.runtime.java8.JFunction0$mcV$sp.apply(JFunction0$mcV$sp.java:23)\n\tat com.databricks.spark.util.ExecutorFrameProfiler$.record(ExecutorFrameProfiler.scala:110)\n\tat org.apache.spark.executor.Executor$TaskRunner.run(Executor.scala:761)\n\tat java.util.concurrent.ThreadPoolExecutor.runWorker(ThreadPoolExecutor.java:1149)\n\tat java.util.concurrent.ThreadPoolExecutor$Worker.run(ThreadPoolExecutor.java:624)\n\t... 1 more\n",
       "errorSummary": "org.apache.spark.SparkException: Job aborted due to stage failure: Task 0 in stage 50.0 failed 1 times, most recent failure: Lost task 0.0 in stage 50.0 (TID 128) (ip-10-172-191-102.us-west-2.compute.internal executor driver): org.apache.spark.api.python.PythonException: 'NameError: name 'avg' is not defined', from <command-1464622075133874>, line 1. Full traceback below:",
       "errorTraceType": "ansi",
       "metadata": {},
       "type": "ipynbError"
      }
     },
     "output_type": "display_data"
    }
   ],
   "source": [
    " new=new1.reduceByKey(lambda x,y:averag(x,y) ).collect()"
   ]
  },
  {
   "cell_type": "code",
   "execution_count": 0,
   "metadata": {
    "application/vnd.databricks.v1+cell": {
     "cellMetadata": {
      "byteLimit": 2048000,
      "rowLimit": 10000
     },
     "inputWidgets": {},
     "nuid": "15eaca8a-edb8-4703-a056-80f706b932f7",
     "showTitle": false,
     "title": ""
    }
   },
   "outputs": [],
   "source": [
    "#  Question now we calculate total number of tushar friends"
   ]
  },
  {
   "cell_type": "code",
   "execution_count": 0,
   "metadata": {
    "application/vnd.databricks.v1+cell": {
     "cellMetadata": {
      "byteLimit": 2048000,
      "rowLimit": 10000
     },
     "inputWidgets": {},
     "nuid": "cec33a89-d82b-4e9e-868f-7e1b98ca5b24",
     "showTitle": false,
     "title": ""
    }
   },
   "outputs": [],
   "source": [
    "rdd=sc.textFile(\"dbfs:/FileStore/shared_uploads/rajendraku0000@gmail.com/FriendsData___FriendsData.csv\")"
   ]
  },
  {
   "cell_type": "code",
   "execution_count": 0,
   "metadata": {
    "application/vnd.databricks.v1+cell": {
     "cellMetadata": {
      "byteLimit": 2048000,
      "rowLimit": 10000
     },
     "inputWidgets": {},
     "nuid": "d3acf428-f799-4817-853d-422a33164e72",
     "showTitle": false,
     "title": ""
    }
   },
   "outputs": [],
   "source": [
    "rdd1=rdd.filter(lambda x:x.split(\",\")[1]==\"Tushar\")"
   ]
  },
  {
   "cell_type": "code",
   "execution_count": 0,
   "metadata": {
    "application/vnd.databricks.v1+cell": {
     "cellMetadata": {
      "byteLimit": 2048000,
      "rowLimit": 10000
     },
     "inputWidgets": {},
     "nuid": "c28b067a-b0e7-4ea8-a059-028db1ff15c7",
     "showTitle": false,
     "title": ""
    }
   },
   "outputs": [
    {
     "output_type": "stream",
     "name": "stdout",
     "output_type": "stream",
     "text": [
      "Out[82]: ['1,Tushar,50,1385',\n '8,Tushar,54,307',\n '77,Tushar,62,201',\n '99,Tushar,44,178',\n '108,Tushar,64,419']"
     ]
    }
   ],
   "source": [
    "rdd1.take(5)"
   ]
  },
  {
   "cell_type": "code",
   "execution_count": 0,
   "metadata": {
    "application/vnd.databricks.v1+cell": {
     "cellMetadata": {
      "byteLimit": 2048000,
      "rowLimit": 10000
     },
     "inputWidgets": {},
     "nuid": "e9c57c91-7b58-4e36-8014-dd0a007b8975",
     "showTitle": false,
     "title": ""
    }
   },
   "outputs": [],
   "source": [
    "def splitdata(line):\n",
    "    value=line.split(\",\")\n",
    "    a=value[0]\n",
    "    b=value[1]\n",
    "    c=value[2]\n",
    "    d=int(value[3])\n",
    "    return b,d"
   ]
  },
  {
   "cell_type": "code",
   "execution_count": 0,
   "metadata": {
    "application/vnd.databricks.v1+cell": {
     "cellMetadata": {
      "byteLimit": 2048000,
      "rowLimit": 10000
     },
     "inputWidgets": {},
     "nuid": "18b8d87c-55fa-47fc-8219-a63c99e6c572",
     "showTitle": false,
     "title": ""
    }
   },
   "outputs": [],
   "source": [
    "rdd2=rdd1.map(splitdata)"
   ]
  },
  {
   "cell_type": "code",
   "execution_count": 0,
   "metadata": {
    "application/vnd.databricks.v1+cell": {
     "cellMetadata": {
      "byteLimit": 2048000,
      "rowLimit": 10000
     },
     "inputWidgets": {},
     "nuid": "a576bc03-0fb3-49e2-b68a-c387f05beffb",
     "showTitle": false,
     "title": ""
    }
   },
   "outputs": [
    {
     "output_type": "stream",
     "name": "stdout",
     "output_type": "stream",
     "text": [
      "Out[87]: [('Tushar', 6818)]"
     ]
    }
   ],
   "source": [
    "rdd2.reduceByKey(lambda x,y:x+y).collect()"
   ]
  },
  {
   "cell_type": "code",
   "execution_count": 0,
   "metadata": {
    "application/vnd.databricks.v1+cell": {
     "cellMetadata": {},
     "inputWidgets": {},
     "nuid": "0b4add52-451f-4726-961d-256151807eb4",
     "showTitle": false,
     "title": ""
    }
   },
   "outputs": [],
   "source": []
  }
 ],
 "metadata": {
  "application/vnd.databricks.v1+notebook": {
   "dashboards": [],
   "language": "python",
   "notebookMetadata": {
    "pythonIndentUnit": 4
   },
   "notebookName": "TemperaturRDD",
   "widgets": {}
  }
 },
 "nbformat": 4,
 "nbformat_minor": 0
}
